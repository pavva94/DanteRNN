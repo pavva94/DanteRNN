{
  "nbformat": 4,
  "nbformat_minor": 0,
  "metadata": {
    "accelerator": "GPU",
    "colab": {
      "name": "DeepComedy.ipynb",
      "provenance": [],
      "collapsed_sections": []
    },
    "kernelspec": {
      "display_name": "Python 3",
      "language": "python",
      "name": "python3"
    },
    "language_info": {
      "codemirror_mode": {
        "name": "ipython",
        "version": 3
      },
      "file_extension": ".py",
      "mimetype": "text/x-python",
      "name": "python",
      "nbconvert_exporter": "python",
      "pygments_lexer": "ipython3",
      "version": "3.7.4"
    }
  },
  "cells": [
    {
      "cell_type": "markdown",
      "metadata": {
        "id": "8m8xB0z_hYbG"
      },
      "source": [
        "# DeepComedy: AI Generated Divine Comedy\n",
        "\n",
        "Author: **Alessandro Pavesi, Federico Battistella**\n"
      ]
    },
    {
      "cell_type": "markdown",
      "metadata": {
        "id": "ncDUryHdqckI"
      },
      "source": [
        "This Notebook contains a **text generator RNN** that was trained on the **Divina Commedia** (the *Divine Comedy*) by **Dante Alighieri**. \n",
        "\n",
        "It's structure is extremely complex: the poem is composed by three Cantiche, each Cantica has 33 Terzine, each Terzina is composed by three verses, each verse is composed of 11 syllables, and its rhymes follow an **A-B-A-B-C-B-C** structure."
      ]
    },
    {
      "cell_type": "code",
      "metadata": {
        "id": "R8FnhxiWY_Y1",
        "colab": {
          "base_uri": "https://localhost:8080/"
        },
        "outputId": "a8f9a9be-cee9-4dad-d55e-c98c72803b78"
      },
      "source": [
        "import time\n",
        "import re\n",
        "\n",
        "import numpy as np\n",
        "import pandas as pd\n",
        "\n",
        "%tensorflow_version 2.x\n",
        "import tensorflow as tf\n",
        "print(tf.__version__)\n",
        "\n",
        "from tensorflow.keras.models import Sequential, Model\n",
        "from tensorflow.keras.layers import Embedding, LSTM, Dense, Dropout, Attention, Flatten, Input\n",
        "from tensorflow.keras.activations import elu, relu, softmax\n",
        "from tensorflow.keras.metrics import categorical_accuracy, sparse_categorical_crossentropy, categorical_crossentropy\n",
        "\n",
        "from matplotlib import pyplot as plt "
      ],
      "execution_count": 1,
      "outputs": [
        {
          "output_type": "stream",
          "text": [
            "2.4.0\n"
          ],
          "name": "stdout"
        }
      ]
    },
    {
      "cell_type": "markdown",
      "metadata": {
        "id": "jVW2XbaZ_GGM"
      },
      "source": [
        "# Preliminaries Steps"
      ]
    },
    {
      "cell_type": "markdown",
      "metadata": {
        "id": "Xkhp6e4Sztim"
      },
      "source": [
        "## Import and initial cleaning"
      ]
    },
    {
      "cell_type": "code",
      "metadata": {
        "id": "V5YiWU0daYkT"
      },
      "source": [
        "# Read the Divina Commedia\n",
        "with open( \"DivinaCommedia.txt\", 'r', encoding=\"utf8\") as file:\n",
        "    divina_commedia = file.read()\n",
        "\n",
        "# Replace rare characters\n",
        "divina_commedia = divina_commedia.replace(\"ä\", \"a\")\n",
        "divina_commedia = divina_commedia.replace(\"é\", \"è\")\n",
        "divina_commedia = divina_commedia.replace(\"ë\", \"è\")\n",
        "divina_commedia = divina_commedia.replace(\"Ë\", \"E\")\n",
        "divina_commedia = divina_commedia.replace(\"ï\", \"i\")\n",
        "divina_commedia = divina_commedia.replace(\"Ï\", \"I\")\n",
        "divina_commedia = divina_commedia.replace(\"ó\", \"ò\")\n",
        "divina_commedia = divina_commedia.replace(\"ö\", \"o\")\n",
        "divina_commedia = divina_commedia.replace(\"ü\", \"u\")\n",
        "\n",
        "divina_commedia = divina_commedia.replace(\"(\", \"-\")\n",
        "divina_commedia = divina_commedia.replace(\")\", \"-\")\n",
        "\n",
        "divina_commedia = re.sub(r'[0-9]+', '', divina_commedia)\n",
        "divina_commedia = re.sub(r'\\[.*\\r?\\n', '', divina_commedia)\n",
        "divina_commedia = re.sub(r'.*Canto.*\\r?\\n', '', divina_commedia)\n",
        "\n",
        "# divina_commedia = divina_commedia.replace(\" \\n\", \"\\n\")  # with this i lose the \"terzina\": results are not so exciting\n",
        "#divina_commedia = divina_commedia.replace(\" \\n\", \"<eot>\")  # end of terzina\n",
        "#divina_commedia = divina_commedia.replace(\"\\n\", \"<eor>\")"
      ],
      "execution_count": 2,
      "outputs": []
    },
    {
      "cell_type": "code",
      "metadata": {
        "id": "ynI7x9Rp7yQe",
        "colab": {
          "base_uri": "https://localhost:8080/"
        },
        "outputId": "c05aa07e-9038-4eb6-a7ee-6fcd6f735943"
      },
      "source": [
        "print(divina_commedia[1:1000])"
      ],
      "execution_count": 3,
      "outputs": [
        {
          "output_type": "stream",
          "text": [
            "NFERNO\n",
            "\n",
            "\n",
            "\n",
            "Nel mezzo del cammin di nostra vita\n",
            "mi ritrovai per una selva oscura,\n",
            "chè la diritta via era smarrita. \n",
            "\n",
            "Ahi quanto a dir qual era è cosa dura\n",
            "esta selva selvaggia e aspra e forte\n",
            "che nel pensier rinova la paura! \n",
            "\n",
            "Tant'è amara che poco è più morte;\n",
            "ma per trattar del ben ch'i' vi trovai,\n",
            "dirò de l'altre cose ch'i' v' ho scorte. \n",
            "\n",
            "Io non so ben ridir com'i' v'intrai,\n",
            "tant'era pien di sonno a quel punto\n",
            "che la verace via abbandonai. \n",
            "\n",
            "Ma poi ch'i' fui al piè d'un colle giunto,\n",
            "là dove terminava quella valle\n",
            "che m'avea di paura il cor compunto, \n",
            "\n",
            "guardai in alto e vidi le sue spalle\n",
            "vestite già de' raggi del pianeta\n",
            "che mena dritto altrui per ogne calle. \n",
            "\n",
            "Allor fu la paura un poco queta,\n",
            "che nel lago del cor m'era durata\n",
            "la notte ch'i' passai con tanta pieta. \n",
            "\n",
            "E come quei che con lena affannata,\n",
            "uscito fuor del pelago a la riva,\n",
            "si volge a l'acqua perigliosa e guata, \n",
            "\n",
            "così l'animo mio, ch'ancor fuggiva,\n",
            "si volse a retro a rimirar lo passo\n",
            "che non lasciò già mai persona viva\n"
          ],
          "name": "stdout"
        }
      ]
    },
    {
      "cell_type": "code",
      "metadata": {
        "id": "ILphRXIXaYrP",
        "colab": {
          "base_uri": "https://localhost:8080/"
        },
        "outputId": "4cdb5f9a-2d67-4db8-f9e2-03581a91864d"
      },
      "source": [
        "# Check lenght of text\n",
        "print(len(divina_commedia))"
      ],
      "execution_count": 4,
      "outputs": [
        {
          "output_type": "stream",
          "text": [
            "534049\n"
          ],
          "name": "stdout"
        }
      ]
    },
    {
      "cell_type": "markdown",
      "metadata": {
        "id": "uZw3-Joyhg5l"
      },
      "source": [
        "## Vocabulary and Char2Idx"
      ]
    },
    {
      "cell_type": "code",
      "metadata": {
        "id": "KwvjeLGWAVE4"
      },
      "source": [
        "# Store unique characters into a dict with numerical encoding\n",
        "unique_chars = list(set(divina_commedia))\n",
        "unique_chars.sort()  # to make sure you get the same encoding at each run\n",
        "\n",
        "# Store them in a dict, associated with a numerical index\n",
        "char2idx = { char[1]: char[0] for char in enumerate(unique_chars) }\n"
      ],
      "execution_count": 5,
      "outputs": []
    },
    {
      "cell_type": "code",
      "metadata": {
        "id": "tkXOJ3LGAVCF",
        "colab": {
          "base_uri": "https://localhost:8080/"
        },
        "outputId": "5f57a65f-8003-4664-b3ac-2b04a540f334"
      },
      "source": [
        "print(len(char2idx))"
      ],
      "execution_count": 6,
      "outputs": [
        {
          "output_type": "stream",
          "text": [
            "62\n"
          ],
          "name": "stdout"
        }
      ]
    },
    {
      "cell_type": "code",
      "metadata": {
        "id": "2sieJxDhAU_V",
        "colab": {
          "base_uri": "https://localhost:8080/"
        },
        "outputId": "d0aa251d-830d-474a-c0da-b6fc1b7af24d"
      },
      "source": [
        "char2idx"
      ],
      "execution_count": 7,
      "outputs": [
        {
          "output_type": "execute_result",
          "data": {
            "text/plain": [
              "{'\\n': 0,\n",
              " ' ': 1,\n",
              " '!': 2,\n",
              " '\"': 3,\n",
              " \"'\": 4,\n",
              " ',': 5,\n",
              " '-': 6,\n",
              " '.': 7,\n",
              " ':': 8,\n",
              " ';': 9,\n",
              " '?': 10,\n",
              " 'A': 11,\n",
              " 'B': 12,\n",
              " 'C': 13,\n",
              " 'D': 14,\n",
              " 'E': 15,\n",
              " 'F': 16,\n",
              " 'G': 17,\n",
              " 'H': 18,\n",
              " 'I': 19,\n",
              " 'L': 20,\n",
              " 'M': 21,\n",
              " 'N': 22,\n",
              " 'O': 23,\n",
              " 'P': 24,\n",
              " 'Q': 25,\n",
              " 'R': 26,\n",
              " 'S': 27,\n",
              " 'T': 28,\n",
              " 'U': 29,\n",
              " 'V': 30,\n",
              " 'Z': 31,\n",
              " 'a': 32,\n",
              " 'b': 33,\n",
              " 'c': 34,\n",
              " 'd': 35,\n",
              " 'e': 36,\n",
              " 'f': 37,\n",
              " 'g': 38,\n",
              " 'h': 39,\n",
              " 'i': 40,\n",
              " 'j': 41,\n",
              " 'l': 42,\n",
              " 'm': 43,\n",
              " 'n': 44,\n",
              " 'o': 45,\n",
              " 'p': 46,\n",
              " 'q': 47,\n",
              " 'r': 48,\n",
              " 's': 49,\n",
              " 't': 50,\n",
              " 'u': 51,\n",
              " 'v': 52,\n",
              " 'x': 53,\n",
              " 'y': 54,\n",
              " 'z': 55,\n",
              " 'È': 56,\n",
              " 'à': 57,\n",
              " 'è': 58,\n",
              " 'ì': 59,\n",
              " 'ò': 60,\n",
              " 'ù': 61}"
            ]
          },
          "metadata": {
            "tags": []
          },
          "execution_count": 7
        }
      ]
    },
    {
      "cell_type": "markdown",
      "metadata": {
        "id": "G2H5G86HhyvE"
      },
      "source": [
        "## Encoding"
      ]
    },
    {
      "cell_type": "code",
      "metadata": {
        "id": "vk_BqFK4AU9H"
      },
      "source": [
        "def numerical_encoding(text, char_dict):\n",
        "    \"\"\" Text to list of chars, to np.array of numerical idx \"\"\"\n",
        "    chars_list = [ char for char in text ]\n",
        "    chars_list = [ char_dict[char] for char in chars_list ]\n",
        "    chars_list = np.array(chars_list)\n",
        "    return chars_list\n"
      ],
      "execution_count": 8,
      "outputs": []
    },
    {
      "cell_type": "code",
      "metadata": {
        "id": "r7JpYN9LAU7U",
        "colab": {
          "base_uri": "https://localhost:8080/"
        },
        "outputId": "3d29f963-5ba3-4ae2-828c-a7f371e408bd"
      },
      "source": [
        "# Let's see what the first line will look like\n",
        "print(\"{}\".format(divina_commedia[276:511]))\n",
        "print(\"\\nbecomes:\")\n",
        "print(numerical_encoding(divina_commedia[276:511], char2idx))"
      ],
      "execution_count": 9,
      "outputs": [
        {
          "output_type": "stream",
          "text": [
            "del ben ch'i' vi trovai,\n",
            "dirò de l'altre cose ch'i' v' ho scorte. \n",
            "\n",
            "Io non so ben ridir com'i' v'intrai,\n",
            "tant'era pien di sonno a quel punto\n",
            "che la verace via abbandonai. \n",
            "\n",
            "Ma poi ch'i' fui al piè d'un colle giunto,\n",
            "là dove terminava q\n",
            "\n",
            "becomes:\n",
            "[35 36 42  1 33 36 44  1 34 39  4 40  4  1 52 40  1 50 48 45 52 32 40  5\n",
            "  0 35 40 48 60  1 35 36  1 42  4 32 42 50 48 36  1 34 45 49 36  1 34 39\n",
            "  4 40  4  1 52  4  1 39 45  1 49 34 45 48 50 36  7  1  0  0 19 45  1 44\n",
            " 45 44  1 49 45  1 33 36 44  1 48 40 35 40 48  1 34 45 43  4 40  4  1 52\n",
            "  4 40 44 50 48 32 40  5  0 50 32 44 50  4 36 48 32  1 46 40 36 44  1 35\n",
            " 40  1 49 45 44 44 45  1 32  1 47 51 36 42  1 46 51 44 50 45  0 34 39 36\n",
            "  1 42 32  1 52 36 48 32 34 36  1 52 40 32  1 32 33 33 32 44 35 45 44 32\n",
            " 40  7  1  0  0 21 32  1 46 45 40  1 34 39  4 40  4  1 37 51 40  1 32 42\n",
            "  1 46 40 58  1 35  4 51 44  1 34 45 42 42 36  1 38 40 51 44 50 45  5  0\n",
            " 42 57  1 35 45 52 36  1 50 36 48 43 40 44 32 52 32  1 47]\n"
          ],
          "name": "stdout"
        }
      ]
    },
    {
      "cell_type": "markdown",
      "metadata": {
        "id": "HqALeTUmnl0X"
      },
      "source": [
        "# Processing Data for DanteRNN\n",
        "\n",
        "We need to generate the input for our RNN, the input sequence and an output sequence needs to be of equal length, in which each character is shifted left of one position.\n",
        "\n",
        "For example, the first verse:\n",
        "\n",
        "> Nel mezzo del cammin di nostra vita\n",
        "\n",
        "would be translated in a train sequence as:\n",
        "\n",
        "`Nel mezzo del cammin di nostra vit`\n",
        "\n",
        "be associated with the target sequence:\n",
        "\n",
        "`el mezzo del cammin di nostra vita`\n",
        "\n",
        "The following function is a preparatory step for that. More generally, given a sequence:\n",
        "\n",
        "```\n",
        "A B C D E F G H I\n",
        "```\n",
        "\n",
        "and assuming input sequences of length 5, it will generate a matrix like:\n",
        "\n",
        "```\n",
        "A B C D E\n",
        "B C D E F\n",
        "C D E F G\n",
        "D E F G H\n",
        "E F G H I\n",
        "```\n",
        "\n",
        "The split between train and target sets will be as:\n",
        "\n",
        "```\n",
        " Train:           Target:\n",
        "                 \n",
        "A B C D E        B C D E F\n",
        "B C D E F        C D E F G\n",
        "C D E F G        D E F G H\n",
        "D E F G H        E F G H I\n",
        "                 \n",
        "```\n",
        "\n",
        "Train and target sets are fundamentally the same matrix, with the train having the last row removed, and the target set having the first removed."
      ]
    },
    {
      "cell_type": "code",
      "metadata": {
        "id": "yWcZzOJdG6X9"
      },
      "source": [
        "# Apply it on the whole Comedy\n",
        "encoded_text = numerical_encoding(divina_commedia, char2idx)"
      ],
      "execution_count": 10,
      "outputs": []
    },
    {
      "cell_type": "code",
      "metadata": {
        "id": "foyC3ZnGgKLN",
        "colab": {
          "base_uri": "https://localhost:8080/"
        },
        "outputId": "2532c70b-6450-4690-8179-ee48f6027abb"
      },
      "source": [
        "print(encoded_text[311:600])"
      ],
      "execution_count": 11,
      "outputs": [
        {
          "output_type": "stream",
          "text": [
            "[32 42 50 48 36  1 34 45 49 36  1 34 39  4 40  4  1 52  4  1 39 45  1 49\n",
            " 34 45 48 50 36  7  1  0  0 19 45  1 44 45 44  1 49 45  1 33 36 44  1 48\n",
            " 40 35 40 48  1 34 45 43  4 40  4  1 52  4 40 44 50 48 32 40  5  0 50 32\n",
            " 44 50  4 36 48 32  1 46 40 36 44  1 35 40  1 49 45 44 44 45  1 32  1 47\n",
            " 51 36 42  1 46 51 44 50 45  0 34 39 36  1 42 32  1 52 36 48 32 34 36  1\n",
            " 52 40 32  1 32 33 33 32 44 35 45 44 32 40  7  1  0  0 21 32  1 46 45 40\n",
            "  1 34 39  4 40  4  1 37 51 40  1 32 42  1 46 40 58  1 35  4 51 44  1 34\n",
            " 45 42 42 36  1 38 40 51 44 50 45  5  0 42 57  1 35 45 52 36  1 50 36 48\n",
            " 43 40 44 32 52 32  1 47 51 36 42 42 32  1 52 32 42 42 36  0 34 39 36  1\n",
            " 43  4 32 52 36 32  1 35 40  1 46 32 51 48 32  1 40 42  1 34 45 48  1 34\n",
            " 45 43 46 51 44 50 45  5  1  0  0 38 51 32 48 35 32 40  1 40 44  1 32 42\n",
            " 50 45  1 36  1 52 40 35 40  1 42 36  1 49 51 36  1 49 46 32 42 42 36  0\n",
            " 52]\n"
          ],
          "name": "stdout"
        }
      ]
    },
    {
      "cell_type": "code",
      "metadata": {
        "id": "t41gYByxAU4B"
      },
      "source": [
        "def get_text_matrix(sequence, len_input):\n",
        "    \n",
        "    # create empty matrix\n",
        "    X = np.empty((len(sequence)-len_input, len_input))\n",
        "    \n",
        "    # fill each row/time window from input sequence\n",
        "    for i in range(X.shape[0]):\n",
        "        X[i,:] = sequence[i : i+len_input]\n",
        "        \n",
        "    return X"
      ],
      "execution_count": 12,
      "outputs": []
    },
    {
      "cell_type": "code",
      "metadata": {
        "id": "5eazAAQiAk0i"
      },
      "source": [
        "len_text = 150\n",
        "text_matrix = get_text_matrix(encoded_text, len_text)"
      ],
      "execution_count": 13,
      "outputs": []
    },
    {
      "cell_type": "code",
      "metadata": {
        "id": "KonviQjQAk40",
        "colab": {
          "base_uri": "https://localhost:8080/"
        },
        "outputId": "0fbca8e3-01f4-4d32-dfb3-d9cf94cb4b81"
      },
      "source": [
        "print(text_matrix.shape)"
      ],
      "execution_count": 14,
      "outputs": [
        {
          "output_type": "stream",
          "text": [
            "(533899, 150)\n"
          ],
          "name": "stdout"
        }
      ]
    },
    {
      "cell_type": "code",
      "metadata": {
        "id": "BaVngDG7AkyU",
        "colab": {
          "base_uri": "https://localhost:8080/"
        },
        "outputId": "a3c31585-3ca9-492f-937d-9772242737de"
      },
      "source": [
        "print(\"100th train sequence:\\n\")\n",
        "print(text_matrix[ 100, : ])\n",
        "print(\"\\n\\n100th target sequence:\\n\")\n",
        "print(text_matrix[ 101, : ])\n",
        "print(\"\\n\\n102th target sequence:\\n\")\n",
        "print(text_matrix[ 102, : ])\n",
        "print(\"\\n\\n115th target sequence:\\n\")\n",
        "print(text_matrix[ 180, : ])"
      ],
      "execution_count": 15,
      "outputs": [
        {
          "output_type": "stream",
          "text": [
            "100th train sequence:\n",
            "\n",
            "[36. 48. 32.  1. 49. 43. 32. 48. 48. 40. 50. 32.  7.  1.  0.  0. 11. 39.\n",
            " 40.  1. 47. 51. 32. 44. 50. 45.  1. 32.  1. 35. 40. 48.  1. 47. 51. 32.\n",
            " 42.  1. 36. 48. 32.  1. 58.  1. 34. 45. 49. 32.  1. 35. 51. 48. 32.  0.\n",
            " 36. 49. 50. 32.  1. 49. 36. 42. 52. 32.  1. 49. 36. 42. 52. 32. 38. 38.\n",
            " 40. 32.  1. 36.  1. 32. 49. 46. 48. 32.  1. 36.  1. 37. 45. 48. 50. 36.\n",
            "  0. 34. 39. 36.  1. 44. 36. 42.  1. 46. 36. 44. 49. 40. 36. 48.  1. 48.\n",
            " 40. 44. 45. 52. 32.  1. 42. 32.  1. 46. 32. 51. 48. 32.  2.  1.  0.  0.\n",
            " 28. 32. 44. 50.  4. 58.  1. 32. 43. 32. 48. 32.  1. 34. 39. 36.  1. 46.\n",
            " 45. 34. 45.  1. 58.  1.]\n",
            "\n",
            "\n",
            "100th target sequence:\n",
            "\n",
            "[48. 32.  1. 49. 43. 32. 48. 48. 40. 50. 32.  7.  1.  0.  0. 11. 39. 40.\n",
            "  1. 47. 51. 32. 44. 50. 45.  1. 32.  1. 35. 40. 48.  1. 47. 51. 32. 42.\n",
            "  1. 36. 48. 32.  1. 58.  1. 34. 45. 49. 32.  1. 35. 51. 48. 32.  0. 36.\n",
            " 49. 50. 32.  1. 49. 36. 42. 52. 32.  1. 49. 36. 42. 52. 32. 38. 38. 40.\n",
            " 32.  1. 36.  1. 32. 49. 46. 48. 32.  1. 36.  1. 37. 45. 48. 50. 36.  0.\n",
            " 34. 39. 36.  1. 44. 36. 42.  1. 46. 36. 44. 49. 40. 36. 48.  1. 48. 40.\n",
            " 44. 45. 52. 32.  1. 42. 32.  1. 46. 32. 51. 48. 32.  2.  1.  0.  0. 28.\n",
            " 32. 44. 50.  4. 58.  1. 32. 43. 32. 48. 32.  1. 34. 39. 36.  1. 46. 45.\n",
            " 34. 45.  1. 58.  1. 46.]\n",
            "\n",
            "\n",
            "102th target sequence:\n",
            "\n",
            "[32.  1. 49. 43. 32. 48. 48. 40. 50. 32.  7.  1.  0.  0. 11. 39. 40.  1.\n",
            " 47. 51. 32. 44. 50. 45.  1. 32.  1. 35. 40. 48.  1. 47. 51. 32. 42.  1.\n",
            " 36. 48. 32.  1. 58.  1. 34. 45. 49. 32.  1. 35. 51. 48. 32.  0. 36. 49.\n",
            " 50. 32.  1. 49. 36. 42. 52. 32.  1. 49. 36. 42. 52. 32. 38. 38. 40. 32.\n",
            "  1. 36.  1. 32. 49. 46. 48. 32.  1. 36.  1. 37. 45. 48. 50. 36.  0. 34.\n",
            " 39. 36.  1. 44. 36. 42.  1. 46. 36. 44. 49. 40. 36. 48.  1. 48. 40. 44.\n",
            " 45. 52. 32.  1. 42. 32.  1. 46. 32. 51. 48. 32.  2.  1.  0.  0. 28. 32.\n",
            " 44. 50.  4. 58.  1. 32. 43. 32. 48. 32.  1. 34. 39. 36.  1. 46. 45. 34.\n",
            " 45.  1. 58.  1. 46. 40.]\n",
            "\n",
            "\n",
            "115th target sequence:\n",
            "\n",
            "[48. 32.  1. 36.  1. 37. 45. 48. 50. 36.  0. 34. 39. 36.  1. 44. 36. 42.\n",
            "  1. 46. 36. 44. 49. 40. 36. 48.  1. 48. 40. 44. 45. 52. 32.  1. 42. 32.\n",
            "  1. 46. 32. 51. 48. 32.  2.  1.  0.  0. 28. 32. 44. 50.  4. 58.  1. 32.\n",
            " 43. 32. 48. 32.  1. 34. 39. 36.  1. 46. 45. 34. 45.  1. 58.  1. 46. 40.\n",
            " 61.  1. 43. 45. 48. 50. 36.  9.  0. 43. 32.  1. 46. 36. 48.  1. 50. 48.\n",
            " 32. 50. 50. 32. 48.  1. 35. 36. 42.  1. 33. 36. 44.  1. 34. 39.  4. 40.\n",
            "  4.  1. 52. 40.  1. 50. 48. 45. 52. 32. 40.  5.  0. 35. 40. 48. 60.  1.\n",
            " 35. 36.  1. 42.  4. 32. 42. 50. 48. 36.  1. 34. 45. 49. 36.  1. 34. 39.\n",
            "  4. 40.  4.  1. 52.  4.]\n"
          ],
          "name": "stdout"
        }
      ]
    },
    {
      "cell_type": "markdown",
      "metadata": {
        "id": "dTb_xjIHFMQg"
      },
      "source": [
        "# Custom Loss\n",
        "Evaluate the structure of the rhymes, based on the real scheme"
      ]
    },
    {
      "cell_type": "code",
      "metadata": {
        "id": "oUfoUSUSXjl5"
      },
      "source": [
        "from functools import reduce\n",
        "\n",
        "\n",
        "def divide_versi(y):\n",
        "  doppiozero = False\n",
        "\n",
        "  y_divided = [[]]\n",
        "  for ly in y:\n",
        "    ly = int(ly)\n",
        "\n",
        "    # I have to clean the list of punctuation marks,\n",
        "    # in chartoidx means the numbers 1 to 10 inclusive.\n",
        "    if ly in [1, 2, 3, 4, 5, 6, 7, 8, 9, 10]:\n",
        "        continue\n",
        "    else:\n",
        "      # if it is zero it means \\ n so I add a new line\n",
        "      if ly is 0:\n",
        "        if not doppiozero:\n",
        "          y_divided.append([])\n",
        "        doppiozero = True\n",
        "        continue\n",
        "\n",
        "      y_divided[-1].append(ly)\n",
        "      doppiozero = False\n",
        "\n",
        "  if y_divided is not []:\n",
        "    if y[-1] != 0:\n",
        "      # since the last line does not end with 0 it means that it is incomplete and I remove it\n",
        "      y_divided.pop()\n",
        "\n",
        "  # i need to re check because maybe i pop the only one\n",
        "  if len(y_divided) != 0:\n",
        "    if len(y_divided[0]) < 3:\n",
        "      # if the first line is less than 4 I can't do anything about it so I delete it\n",
        "      y_divided.pop(0)\n",
        "\n",
        "  return y_divided\n",
        "\n",
        "def rhymes_extractor(y_divided):\n",
        "  # I extract the rhyme scheme from y\n",
        "  rhymes = []\n",
        "  for i in range(len(y_divided)):\n",
        "    # with the end of the line (last two letters) I check if the other lines\n",
        "    # end with the same letters\n",
        "    vy = y_divided[i]\n",
        "\n",
        "    last_word_1 = vy[-2:]\n",
        "\n",
        "    # ABA BCB CDC\n",
        "\n",
        "    # I have to check if line i rhymes with line i + 2\n",
        "    if i+2 < len(y_divided):\n",
        "      next_vy = y_divided[i+2]\n",
        "      if last_word_1 == next_vy[-2:]:\n",
        "        rhymes.append((i, i+2))\n",
        "    \n",
        "    if i+4 < len(y_divided):\n",
        "      next_vy = y_divided[i+4]\n",
        "      if last_word_1 == next_vy[-2:]:\n",
        "        rhymes.append((i, i+4))\n",
        "\n",
        "  return rhymes\n",
        "\n",
        "\n",
        "def get_custom_loss(x_batch, y_batch):\n",
        "  summed_custom_loss = 0\n",
        "\n",
        "  # max number of rhymes (arbitrary choosen, it's an hyperparameter)\n",
        "  max_rhymes = 4\n",
        "\n",
        "  x_bin_tot = np.ones(shape=(len(x_batch), max_rhymes), dtype='float32')\n",
        "  y_bin_tot = np.ones(shape=(len(x_batch), max_rhymes), dtype='float32')\n",
        "\n",
        "  # iterate over each vector\n",
        "  for v in range(len(x_batch)):\n",
        "    x = x_batch[v]\n",
        "    y = y_batch[v]\n",
        "\n",
        "    # given that the model returns a matrix with shape (len_text, vocab_size) with the probability\n",
        "    # for each of the vocab_size character i need to use a categorical to choose the best\n",
        "    # then flatten the matrix into a list for evaluating\n",
        "    predicted_text = list(tf.random.categorical(x, num_samples=1).numpy())\n",
        "    x = np.concatenate(predicted_text).ravel().tolist()\n",
        "\n",
        "    # dividing the vector in verse\n",
        "    x_divided = divide_versi(x)\n",
        "    y_divided = divide_versi(y)\n",
        "\n",
        "    # extract the structure of the rhymes from generated and groud truth\n",
        "    x_rhymes = rhymes_extractor(x_divided)\n",
        "    y_rhymes = rhymes_extractor(y_divided)\n",
        "\n",
        "    # it returns me a list with the number of rhyming lines\n",
        "    # Example: [(1,3), (2,4)] means that lines 1 and 3 rhyme and that the\n",
        "    # lines 2 and 4 as well\n",
        "\n",
        "    # I create a vector of 1 for y because the rhymes are always there\n",
        "    y_bin = np.ones(max_rhymes, dtype='float32')\n",
        "    # I create a vector of 1 for the rhymes generated, I will put 0 if it rhyme\n",
        "    # Is NOT present in dante, discount with a 0.5 since there is at least the rhyme\n",
        "    x_bin = np.ones(max_rhymes, dtype='float32')\n",
        "\n",
        "    if x_rhymes == []:\n",
        "      x_bin = np.zeros(max_rhymes, dtype='float32')\n",
        "\n",
        "    # if the generated rhyme is in Dante's original rhymes then I sign it as valid\n",
        "    # I keep maximum max_ryhmes rhymes: I can because in 150-200 characters I don't have more than 5-6 lines\n",
        "    # so in Dante I would have 2 rhymes, I exceed 2 to help the network create even wrong rhymes\n",
        "    for i in range(max_rhymes+1):\n",
        "      if i < len(y_rhymes):\n",
        "        # check dante's rhyme with predicted rhymes, if it not exist set 0.0\n",
        "        if y_rhymes[i] not in x_rhymes:\n",
        "          x_bin[i] = 0.0\n",
        "        # check predicted rhyme with Dante's rhymes, if not exist set 0.5 to increase number of rhymes produced\n",
        "        if i < len(x_rhymes) and x_rhymes[i] not in y_rhymes:\n",
        "          x_bin[i] = 0.5\n",
        "\n",
        "    # concatenate vectors with rhyming encoding\n",
        "    x_bin_tot[v] = x_bin\n",
        "    y_bin_tot[v] = y_bin\n",
        "  \n",
        "  # MSE over vector\n",
        "  r = tf.keras.losses.mean_squared_error(y_bin_tot, x_bin_tot)\n",
        "\n",
        "  return np.mean(r)\n",
        "\n",
        "# NEW VERSION\n",
        "# creo un vettore con le rime di y reale e di y generato\n",
        "# Ex: in y reale se ho ABABC il vettore è [1,2,1,2,3] con o zero ad indicare nulla\n",
        "# per y generato devo creare un vettore di lunghezza uguale per poi valutarlo con una sparse_crossentropy\n",
        "# problema: non avrà mai le stesse righe\n",
        "\n",
        "# extract matrix of index of where the zeros are\n",
        "#tf.map_fn(fn=lambda t: t.map_fn(fn=lambda x: 1 if x == 0 else 0), elems=x_batch)"
      ],
      "execution_count": 16,
      "outputs": []
    },
    {
      "cell_type": "markdown",
      "metadata": {
        "id": "hPjMSZOzh_60"
      },
      "source": [
        "# Model\n",
        "\n",
        "At this point, I can specify the RNN architecture with all its hyperparameters. \n"
      ]
    },
    {
      "cell_type": "markdown",
      "metadata": {
        "id": "-kiExaZj-iG1"
      },
      "source": [
        "## Parameters"
      ]
    },
    {
      "cell_type": "code",
      "metadata": {
        "id": "rFZfbimYAkvk"
      },
      "source": [
        "# size of vocabulary\n",
        "vocab_size = len(char2idx)\n",
        "\n",
        "# size of mini batches during training\n",
        "batch_size = 100  # 100\n",
        "\n",
        "# size of training subset at each epoch\n",
        "subset_size = batch_size * 100\n",
        "\n",
        "# vector size of char embeddings\n",
        "embedding_size = 200  # 250\n",
        "\n",
        "lstm_unit_1 = 2048\n",
        "lstm_unit_2 = 4096\n",
        "\n",
        "# debug variables\n",
        "debug_model = False\n",
        "if debug_model:\n",
        "  lstm_unit_1 = 1024\n",
        "  lstm_unit_2 = 2048\n",
        "\n",
        "\n",
        "hidden_size = 300  # for Dense() layers 250\n",
        "\n",
        "n_epochs = 50\n",
        "\n",
        "learning_rate = 0.001  # 0.0001"
      ],
      "execution_count": 17,
      "outputs": []
    },
    {
      "cell_type": "markdown",
      "metadata": {
        "id": "6-LOqWfs06v3"
      },
      "source": [
        "## Metrics"
      ]
    },
    {
      "cell_type": "code",
      "metadata": {
        "id": "brY8sqvsD9h9"
      },
      "source": [
        "def perplexity(labels, logits):\n",
        "    \"\"\"Calculates perplexity metric = 2^(entropy) or e^(entropy)\"\"\"\n",
        "    return pow(2, loss(y_true=labels, y_pred=logits))"
      ],
      "execution_count": 18,
      "outputs": []
    },
    {
      "cell_type": "markdown",
      "metadata": {
        "id": "ZHDktX8rF2Iz"
      },
      "source": [
        "## Custom learning rate"
      ]
    },
    {
      "cell_type": "code",
      "metadata": {
        "id": "3yRTdMjQCvIJ",
        "colab": {
          "base_uri": "https://localhost:8080/",
          "height": 296
        },
        "outputId": "12efa6c5-4d08-43b7-a25c-5976f466488e"
      },
      "source": [
        "#@title\n",
        "#learning_rate_tot = []\n",
        "class CustomSchedule(tf.keras.optimizers.schedules.LearningRateSchedule):\n",
        "  def __init__(self, d_model, warmup_steps=10):\n",
        "    super(CustomSchedule, self).__init__()\n",
        "\n",
        "    self.d_model = d_model\n",
        "    self.d_model = tf.cast(self.d_model, tf.float32)\n",
        "\n",
        "    self.warmup_steps = warmup_steps\n",
        "\n",
        "  def __call__(self, step):\n",
        "    arg1 = tf.math.rsqrt(step ** 1.5)\n",
        "    arg2 = step * ((self.warmup_steps+10) ** -1.3)\n",
        "    lr = tf.math.rsqrt(self.d_model) * tf.math.minimum(arg1, arg2)\n",
        "\n",
        "    print(step)\n",
        "\n",
        "    return lr\n",
        "\n",
        "d_model = 500\n",
        "learning_rate_custom_1 = CustomSchedule(d_model)\n",
        "plt.plot(learning_rate(tf.range(50, dtype=tf.float32)))\n",
        "plt.ylabel(\"Learning Rate\")\n",
        "plt.xlabel(\"Train Step\")\n",
        "\n",
        "\n",
        "learning_rate_custom_2 = tf.optimizers.schedules.ExponentialDecay(\n",
        "    initial_learning_rate=0.001,\n",
        "    decay_steps=5,\n",
        "    decay_rate=0.80,\n",
        "    staircase=True)\n",
        "plt.plot(learning_rate(tf.range(50, dtype=tf.float32)))\n",
        "plt.ylabel(\"Learning Rate\")\n",
        "plt.xlabel(\"Train Step\")"
      ],
      "execution_count": null,
      "outputs": [
        {
          "output_type": "execute_result",
          "data": {
            "text/plain": [
              "Text(0.5, 0, 'Train Step')"
            ]
          },
          "metadata": {
            "tags": []
          },
          "execution_count": 19
        },
        {
          "output_type": "display_data",
          "data": {
            "image/png": "[encoded data removed]",
            "text/plain": [
              "<Figure size 432x288 with 1 Axes>"
            ]
          },
          "metadata": {
            "tags": [],
            "needs_background": "light"
          }
        }
      ]
    },
    {
      "cell_type": "markdown",
      "metadata": {
        "id": "0IS2bRMqCjhb"
      },
      "source": [
        ""
      ]
    },
    {
      "cell_type": "code",
      "metadata": {
        "id": "3Ng05biTbx6U"
      },
      "source": [
        "optimizer = tf.keras.optimizers.Adam(learning_rate=learning_rate)  # Adamax"
      ],
      "execution_count": 19,
      "outputs": []
    },
    {
      "cell_type": "markdown",
      "metadata": {
        "id": "r22pA00o-fb7"
      },
      "source": [
        "## Architecture"
      ]
    },
    {
      "cell_type": "code",
      "metadata": {
        "id": "kbtlhhW4bPyE",
        "colab": {
          "base_uri": "https://localhost:8080/"
        },
        "outputId": "5f0673e1-383e-4bb8-e92d-2f287fa3a07b"
      },
      "source": [
        "# Input Layer\n",
        "X = Input(shape=(None, ), batch_size=batch_size)\n",
        "\n",
        "# Embedding Layer\n",
        "embedded = Embedding(vocab_size, embedding_size, \n",
        "                     batch_input_shape=(batch_size, None), \n",
        "                     embeddings_regularizer=tf.keras.regularizers.L2()\n",
        "                     )(X)\n",
        "\n",
        "# Dense layer\n",
        "embedded = Dense(embedding_size, relu)(embedded)\n",
        "\n",
        "# First LSTM\n",
        "encoder_output, hidden_state, cell_state = LSTM(units=lstm_unit_1,\n",
        "                                                         return_sequences=True,\n",
        "                                                         return_state=True)(embedded)\n",
        "# Dropout\n",
        "encoder_output = Dropout(0.3)(encoder_output)\n",
        "# Dense layer\n",
        "encoder_output = Dense(embedding_size, activation='relu')(encoder_output)\n",
        "\n",
        "# Concat of first LSTM hidden state\n",
        "initial_state_double = [tf.concat([hidden_state, hidden_state], 1), tf.concat([hidden_state, hidden_state], 1)]\n",
        "\n",
        "# Second LSTM\n",
        "encoder_output, hidden_state, cell_state = LSTM(units=lstm_unit_2,\n",
        "                                                         return_sequences=True,\n",
        "                                                         return_state=True)(encoder_output, initial_state=initial_state_double)\n",
        "# Dropout\n",
        "encoder_output = Dropout(0.3)(encoder_output)\n",
        "# Dense layer\n",
        "encoder_output = Dense(hidden_size, activation='relu')(encoder_output)\n",
        "\n",
        "# Prediction Layer\n",
        "Y = Dense(units=vocab_size)(encoder_output)\n",
        "\n",
        "# Compile model\n",
        "model = Model(inputs=X, outputs=Y)\n",
        "model.compile(loss=tf.keras.losses.SparseCategoricalCrossentropy(from_logits = True), optimizer='adam', metrics=[perplexity, sparse_categorical_crossentropy])\n",
        "print(model.summary())"
      ],
      "execution_count": 20,
      "outputs": [
        {
          "output_type": "stream",
          "text": [
            "Model: \"model\"\n",
            "__________________________________________________________________________________________________\n",
            "Layer (type)                    Output Shape         Param #     Connected to                     \n",
            "==================================================================================================\n",
            "input_1 (InputLayer)            [(100, None)]        0                                            \n",
            "__________________________________________________________________________________________________\n",
            "embedding (Embedding)           (100, None, 200)     12400       input_1[0][0]                    \n",
            "__________________________________________________________________________________________________\n",
            "dense (Dense)                   (100, None, 200)     40200       embedding[0][0]                  \n",
            "__________________________________________________________________________________________________\n",
            "lstm (LSTM)                     [(100, None, 2048),  18423808    dense[0][0]                      \n",
            "__________________________________________________________________________________________________\n",
            "dropout (Dropout)               (100, None, 2048)    0           lstm[0][0]                       \n",
            "__________________________________________________________________________________________________\n",
            "dense_1 (Dense)                 (100, None, 200)     409800      dropout[0][0]                    \n",
            "__________________________________________________________________________________________________\n",
            "tf.concat (TFOpLambda)          (None, 4096)         0           lstm[0][1]                       \n",
            "                                                                 lstm[0][1]                       \n",
            "__________________________________________________________________________________________________\n",
            "tf.concat_1 (TFOpLambda)        (None, 4096)         0           lstm[0][1]                       \n",
            "                                                                 lstm[0][1]                       \n",
            "__________________________________________________________________________________________________\n",
            "lstm_1 (LSTM)                   [(100, None, 4096),  70402048    dense_1[0][0]                    \n",
            "                                                                 tf.concat[0][0]                  \n",
            "                                                                 tf.concat_1[0][0]                \n",
            "__________________________________________________________________________________________________\n",
            "dropout_1 (Dropout)             (100, None, 4096)    0           lstm_1[0][0]                     \n",
            "__________________________________________________________________________________________________\n",
            "dense_2 (Dense)                 (100, None, 300)     1229100     dropout_1[0][0]                  \n",
            "__________________________________________________________________________________________________\n",
            "dense_3 (Dense)                 (100, None, 62)      18662       dense_2[0][0]                    \n",
            "==================================================================================================\n",
            "Total params: 90,536,018\n",
            "Trainable params: 90,536,018\n",
            "Non-trainable params: 0\n",
            "__________________________________________________________________________________________________\n",
            "None\n"
          ],
          "name": "stdout"
        }
      ]
    },
    {
      "cell_type": "markdown",
      "metadata": {
        "id": "qPcE1ZuK-mkS"
      },
      "source": [
        "## Training"
      ]
    },
    {
      "cell_type": "code",
      "metadata": {
        "id": "qK1OwjD1IDD_",
        "colab": {
          "base_uri": "https://localhost:8080/"
        },
        "outputId": "37031d8e-54c9-4a58-85dc-70b49ef3dee0"
      },
      "source": [
        "def train_on_batch(x, y):\n",
        "    with tf.GradientTape() as tape:\n",
        "        # returns a tensor with shape (batch_size, len_text)\n",
        "        x_predicted = model(x)\n",
        "\n",
        "        scce = tf.keras.losses.sparse_categorical_crossentropy(y, x_predicted, from_logits = True)\n",
        "        # we cant return a tensor with that shape so we return a float that are summed\n",
        "        custom = get_custom_loss(x_predicted, y)\n",
        "\n",
        "        current_loss = tf.reduce_mean(scce + custom)\n",
        "\n",
        "    gradients = tape.gradient(current_loss, model.trainable_variables)\n",
        "    optimizer.apply_gradients(zip(gradients, model.trainable_variables))\n",
        "    return current_loss, scce, custom\n",
        "\n",
        "\n",
        "loss_history = []\n",
        "custom_loss_history = []\n",
        "\n",
        "for epoch in range(n_epochs):\n",
        "    \n",
        "    start = time.time()\n",
        "    \n",
        "    # Take subsets of train and target\n",
        "    sample = np.random.randint(0, text_matrix.shape[0]-1, subset_size)\n",
        "    sample_train = text_matrix[ sample , : ]\n",
        "    sample_target = text_matrix[ sample+1 , : ]\n",
        "\n",
        "    for iteration in range(sample_train.shape[0] // batch_size):\n",
        "        take = iteration * batch_size\n",
        "        x = sample_train[ take:take+batch_size , : ]\n",
        "        y = sample_target[ take:take+batch_size , : ]\n",
        "\n",
        "        current_loss, scce, custom = train_on_batch(x, y)\n",
        "        loss_history.append(current_loss)\n",
        "        custom_loss_history.append(custom)\n",
        "    \n",
        "    print(\"{}.  \\t  Total-Loss: {}  \\t  Custom-Loss: {}  \\t Time: {} sec/epoch\".format(\n",
        "        epoch+1, current_loss.numpy(),custom, round(time.time()-start, 2)))\n"
      ],
      "execution_count": 24,
      "outputs": [
        {
          "output_type": "stream",
          "text": [
            "1.  \t  Total-Loss: 3.2371158599853516  \t  Custom-Loss: 1.0  \t Time: 320.38 sec/epoch\n",
            "2.  \t  Total-Loss: 2.9564359188079834  \t  Custom-Loss: 0.9668750166893005  \t Time: 320.35 sec/epoch\n",
            "3.  \t  Total-Loss: 2.8148603439331055  \t  Custom-Loss: 0.9731249809265137  \t Time: 319.79 sec/epoch\n",
            "4.  \t  Total-Loss: 2.6902661323547363  \t  Custom-Loss: 0.9831249713897705  \t Time: 319.58 sec/epoch\n",
            "5.  \t  Total-Loss: 2.578375816345215  \t  Custom-Loss: 0.9750000238418579  \t Time: 319.05 sec/epoch\n",
            "6.  \t  Total-Loss: 2.5412135124206543  \t  Custom-Loss: 0.9837499856948853  \t Time: 319.66 sec/epoch\n",
            "7.  \t  Total-Loss: 2.430609941482544  \t  Custom-Loss: 0.9412500262260437  \t Time: 318.81 sec/epoch\n",
            "8.  \t  Total-Loss: 2.4212071895599365  \t  Custom-Loss: 0.9537500143051147  \t Time: 319.08 sec/epoch\n",
            "9.  \t  Total-Loss: 2.350477933883667  \t  Custom-Loss: 0.9712499976158142  \t Time: 319.31 sec/epoch\n",
            "10.  \t  Total-Loss: 2.275322437286377  \t  Custom-Loss: 0.9225000143051147  \t Time: 318.84 sec/epoch\n",
            "11.  \t  Total-Loss: 2.272096872329712  \t  Custom-Loss: 0.9487500190734863  \t Time: 319.52 sec/epoch\n",
            "12.  \t  Total-Loss: 2.258767604827881  \t  Custom-Loss: 0.9443749785423279  \t Time: 318.64 sec/epoch\n",
            "13.  \t  Total-Loss: 2.1562633514404297  \t  Custom-Loss: 0.9006249904632568  \t Time: 318.71 sec/epoch\n",
            "14.  \t  Total-Loss: 2.147202730178833  \t  Custom-Loss: 0.921875  \t Time: 318.24 sec/epoch\n",
            "15.  \t  Total-Loss: 2.04411244392395  \t  Custom-Loss: 0.8787500262260437  \t Time: 318.3 sec/epoch\n",
            "16.  \t  Total-Loss: 2.0548598766326904  \t  Custom-Loss: 0.9087499976158142  \t Time: 318.72 sec/epoch\n",
            "17.  \t  Total-Loss: 2.0062854290008545  \t  Custom-Loss: 0.90625  \t Time: 318.55 sec/epoch\n",
            "18.  \t  Total-Loss: 1.8925721645355225  \t  Custom-Loss: 0.8512499928474426  \t Time: 319.17 sec/epoch\n",
            "19.  \t  Total-Loss: 1.8103306293487549  \t  Custom-Loss: 0.8181250095367432  \t Time: 318.88 sec/epoch\n",
            "20.  \t  Total-Loss: 1.752103328704834  \t  Custom-Loss: 0.7950000166893005  \t Time: 319.5 sec/epoch\n",
            "21.  \t  Total-Loss: 1.718335509300232  \t  Custom-Loss: 0.8362500071525574  \t Time: 318.83 sec/epoch\n",
            "22.  \t  Total-Loss: 1.651002049446106  \t  Custom-Loss: 0.8112499713897705  \t Time: 319.08 sec/epoch\n",
            "23.  \t  Total-Loss: 1.435628890991211  \t  Custom-Loss: 0.6762499809265137  \t Time: 318.8 sec/epoch\n",
            "24.  \t  Total-Loss: 1.3966768980026245  \t  Custom-Loss: 0.690625011920929  \t Time: 318.96 sec/epoch\n",
            "25.  \t  Total-Loss: 1.2961541414260864  \t  Custom-Loss: 0.6618750095367432  \t Time: 318.38 sec/epoch\n",
            "26.  \t  Total-Loss: 1.1374807357788086  \t  Custom-Loss: 0.5518749952316284  \t Time: 318.5 sec/epoch\n",
            "27.  \t  Total-Loss: 1.109467625617981  \t  Custom-Loss: 0.5718749761581421  \t Time: 318.46 sec/epoch\n",
            "28.  \t  Total-Loss: 0.9810290336608887  \t  Custom-Loss: 0.5218750238418579  \t Time: 319.15 sec/epoch\n",
            "29.  \t  Total-Loss: 0.8934059143066406  \t  Custom-Loss: 0.46937501430511475  \t Time: 319.12 sec/epoch\n",
            "30.  \t  Total-Loss: 0.7886216044425964  \t  Custom-Loss: 0.4099999964237213  \t Time: 318.97 sec/epoch\n",
            "31.  \t  Total-Loss: 0.6912481784820557  \t  Custom-Loss: 0.3687500059604645  \t Time: 318.97 sec/epoch\n",
            "32.  \t  Total-Loss: 0.7395778894424438  \t  Custom-Loss: 0.44624999165534973  \t Time: 318.74 sec/epoch\n",
            "33.  \t  Total-Loss: 0.7247458100318909  \t  Custom-Loss: 0.45249998569488525  \t Time: 318.75 sec/epoch\n",
            "34.  \t  Total-Loss: 0.5040102005004883  \t  Custom-Loss: 0.2606250047683716  \t Time: 318.47 sec/epoch\n",
            "35.  \t  Total-Loss: 0.595655620098114  \t  Custom-Loss: 0.3787499964237213  \t Time: 318.17 sec/epoch\n",
            "36.  \t  Total-Loss: 0.6105936169624329  \t  Custom-Loss: 0.40187498927116394  \t Time: 318.11 sec/epoch\n",
            "37.  \t  Total-Loss: 0.5047935843467712  \t  Custom-Loss: 0.3075000047683716  \t Time: 318.46 sec/epoch\n",
            "38.  \t  Total-Loss: 0.5264697074890137  \t  Custom-Loss: 0.3343749940395355  \t Time: 318.15 sec/epoch\n",
            "39.  \t  Total-Loss: 0.4890247583389282  \t  Custom-Loss: 0.3050000071525574  \t Time: 318.35 sec/epoch\n",
            "40.  \t  Total-Loss: 0.4385625720024109  \t  Custom-Loss: 0.265625  \t Time: 318.78 sec/epoch\n",
            "41.  \t  Total-Loss: 0.38426679372787476  \t  Custom-Loss: 0.21312500536441803  \t Time: 317.54 sec/epoch\n",
            "42.  \t  Total-Loss: 0.46152961254119873  \t  Custom-Loss: 0.29374998807907104  \t Time: 318.36 sec/epoch\n",
            "43.  \t  Total-Loss: 0.4069253206253052  \t  Custom-Loss: 0.2381249964237213  \t Time: 318.47 sec/epoch\n",
            "44.  \t  Total-Loss: 0.47168171405792236  \t  Custom-Loss: 0.3137499988079071  \t Time: 318.59 sec/epoch\n",
            "45.  \t  Total-Loss: 0.43820300698280334  \t  Custom-Loss: 0.2787500023841858  \t Time: 318.66 sec/epoch\n",
            "46.  \t  Total-Loss: 0.4178254008293152  \t  Custom-Loss: 0.27250000834465027  \t Time: 318.38 sec/epoch\n",
            "47.  \t  Total-Loss: 0.42875272035598755  \t  Custom-Loss: 0.2775000035762787  \t Time: 318.64 sec/epoch\n",
            "48.  \t  Total-Loss: 0.38865312933921814  \t  Custom-Loss: 0.24500000476837158  \t Time: 318.37 sec/epoch\n",
            "49.  \t  Total-Loss: 0.31622663140296936  \t  Custom-Loss: 0.171875  \t Time: 318.15 sec/epoch\n",
            "50.  \t  Total-Loss: 0.34583020210266113  \t  Custom-Loss: 0.20499999821186066  \t Time: 317.84 sec/epoch\n"
          ],
          "name": "stdout"
        }
      ]
    },
    {
      "cell_type": "code",
      "metadata": {
        "id": "DWovlkWZ_28a",
        "colab": {
          "base_uri": "https://localhost:8080/",
          "height": 40
        },
        "outputId": "1fb18e8e-e6b7-4646-9133-c535021cea0c"
      },
      "source": [
        "model.save(\"deep_comedy_custom_loss_01.h5\")\n",
        "from google.colab import files\n",
        "files.download('deep_comedy_custom_loss_01.h5') "
      ],
      "execution_count": null,
      "outputs": [
        {
          "output_type": "display_data",
          "data": {
            "application/javascript": [
              "\n",
              "    async function download(id, filename, size) {\n",
              "      if (!google.colab.kernel.accessAllowed) {\n",
              "        return;\n",
              "      }\n",
              "      const div = document.createElement('div');\n",
              "      const label = document.createElement('label');\n",
              "      label.textContent = `Downloading \"${filename}\": `;\n",
              "      div.appendChild(label);\n",
              "      const progress = document.createElement('progress');\n",
              "      progress.max = size;\n",
              "      div.appendChild(progress);\n",
              "      document.body.appendChild(div);\n",
              "\n",
              "      const buffers = [];\n",
              "      let downloaded = 0;\n",
              "\n",
              "      const channel = await google.colab.kernel.comms.open(id);\n",
              "      // Send a message to notify the kernel that we're ready.\n",
              "      channel.send({})\n",
              "\n",
              "      for await (const message of channel.messages) {\n",
              "        // Send a message to notify the kernel that we're ready.\n",
              "        channel.send({})\n",
              "        if (message.buffers) {\n",
              "          for (const buffer of message.buffers) {\n",
              "            buffers.push(buffer);\n",
              "            downloaded += buffer.byteLength;\n",
              "            progress.value = downloaded;\n",
              "          }\n",
              "        }\n",
              "      }\n",
              "      const blob = new Blob(buffers, {type: 'application/binary'});\n",
              "      const a = document.createElement('a');\n",
              "      a.href = window.URL.createObjectURL(blob);\n",
              "      a.download = filename;\n",
              "      div.appendChild(a);\n",
              "      a.click();\n",
              "      div.remove();\n",
              "    }\n",
              "  "
            ],
            "text/plain": [
              "<IPython.core.display.Javascript object>"
            ]
          },
          "metadata": {
            "tags": []
          }
        },
        {
          "output_type": "display_data",
          "data": {
            "application/javascript": [
              "download(\"download_5336a0ec-b9aa-4a0b-83e6-6f979612592a\", \"deep_comedy_custom_loss_01.h5\", 97372192)"
            ],
            "text/plain": [
              "<IPython.core.display.Javascript object>"
            ]
          },
          "metadata": {
            "tags": []
          }
        }
      ]
    },
    {
      "cell_type": "markdown",
      "metadata": {
        "id": "4CS75-X9-TBd"
      },
      "source": [
        "## Graphs"
      ]
    },
    {
      "cell_type": "code",
      "metadata": {
        "id": "qArT0IfJ2M3M",
        "colab": {
          "base_uri": "https://localhost:8080/",
          "height": 318
        },
        "outputId": "4c1dfd30-d02d-4864-fbbe-fd7ff032d838"
      },
      "source": [
        "fig, ax1 = plt.subplots()\n",
        "\n",
        "color = 'tab:red'\n",
        "ax1.set_xlabel('Iterations')\n",
        "ax1.set_ylabel('Total Loss', color=color)\n",
        "ax1.plot(loss_history, color=color)\n",
        "ax1.tick_params(axis='y', labelcolor=color)\n",
        "\n",
        "ax2 = ax1.twinx()  # instantiate a second axes that shares the same x-axis\n",
        "\n",
        "color = 'tab:blue'\n",
        "ax2.set_ylabel('Custom Loss', color=color)  # we already handled the x-label with ax1\n",
        "ax2.plot(custom_loss_history, color=color)\n",
        "ax2.tick_params(axis='y', labelcolor=color)\n",
        "\n",
        "fig.tight_layout()  # otherwise the right y-label is slightly clipped\n",
        "plt.show()"
      ],
      "execution_count": 26,
      "outputs": [
        {
          "output_type": "display_data",
          "data": {
            "image/png": "[encoded data removed]",
            "text/plain": [
              "<Figure size 432x288 with 2 Axes>"
            ]
          },
          "metadata": {
            "tags": [],
            "needs_background": "light"
          }
        }
      ]
    },
    {
      "cell_type": "code",
      "metadata": {
        "id": "R6uAhmV2Atth"
      },
      "source": [
        "plt.plot(loss_history)\n",
        "plt.xlabel(\"Iterations\")\n",
        "plt.ylabel(\"Total Loss\")\n",
        "plt.title(\"Training Loss\")\n",
        "plt.show()"
      ],
      "execution_count": null,
      "outputs": []
    },
    {
      "cell_type": "markdown",
      "metadata": {
        "id": "RAnothsm80Fj"
      },
      "source": [
        "## Saved model\n",
        "file name, len_matrix, batch_size, embedding_size, lstm_1_unit, lstm_2_unit, hidden_unit, epochs, learning_rate\n",
        "\n",
        "model_custom_loss_01.h5: 150,100, 200, 2048,4096,300,50,0.001 BASE MODEL\n",
        "\n",
        "model_custom_loss_02.h5: 150,**150**, 200, 2048,4096,300,50,0.001\n",
        "\n",
        "model_custom_loss_03.h5: 150,100, 200, 2048,4096,300,50,**custom_exponential**\n",
        "\n",
        "model_custom_loss_04.h5: 150,**150**, 200, 2048,4096,300,50,**custom_exponential**\n",
        "\n",
        "model_custom_loss_05.h5: **200**,150, 200, 2048,4096,300,50,0.001\n",
        "\n",
        "model_custom_loss_06.h5: **100**,150, 200, 2048,4096,300,50,0.001"
      ]
    },
    {
      "cell_type": "markdown",
      "metadata": {
        "id": "yrMdonRckAWB"
      },
      "source": [
        "# Text Generation\n",
        "\n",
        "At this point, let's check how the model generates text. In order to do it, I must make some changes to my RNN architecture above.\n",
        "\n",
        "First, I must change the fixed batch size. After training, I want to feed just one sentence into my Network to make it continue the character sequence. I will feed a string into the model, make it predict the next character, update the input sequence, and repeat the process until a long generated text is obtained. Because of this, the succession of input sequences is now different from training session, in which portions of text were sampled randomly. I now have to set `stateufl = True` in the `LSTM()` layer, so that each LSTM cell will keep in memory the internal state from the previous sequence. With this I hope the model will better remember sequential information while generating text.\n",
        "\n",
        "I will instantiate a new `generator` RNN with these new features, and transfer the trained weights of my `RNN` into it."
      ]
    },
    {
      "cell_type": "code",
      "metadata": {
        "id": "hyS28-ZAEcxU",
        "colab": {
          "base_uri": "https://localhost:8080/"
        },
        "outputId": "ae7e8f39-d069-44cd-d33f-cf4d1d0fbf28"
      },
      "source": [
        "# Input Layer\n",
        "X = Input(shape=(None, ), batch_size=1)\n",
        "embedded = Embedding(vocab_size, embedding_size)(X)\n",
        "embedded = Dense(embedding_size, relu)(embedded)\n",
        "encoder_output, hidden_state, cell_state = LSTM(units=lstm_unit_1,\n",
        "                                                         return_sequences=True,\n",
        "                                                         return_state=True,\n",
        "                                              stateful=True)(embedded)\n",
        "encoder_output = Dropout(0.3)(encoder_output)\n",
        "encoder_output = Dense(embedding_size, activation='relu')(encoder_output)\n",
        "\n",
        "initial_state_double = [tf.concat([hidden_state, hidden_state], 1), tf.concat([hidden_state, hidden_state], 1)]\n",
        "encoder_output, hidden_state, cell_state = LSTM(units=lstm_unit_2,\n",
        "                                                         return_sequences=True,\n",
        "                                                         return_state=True,\n",
        "                                                stateful=True)(encoder_output, initial_state=initial_state_double)\n",
        "encoder_output = Dropout(0.3)(encoder_output)\n",
        "encoder_output = Dense(hidden_size, activation='relu')(encoder_output)\n",
        "\n",
        "Y = Dense(units=vocab_size)(encoder_output)\n",
        "\n",
        "# Compile model\n",
        "generator = Model(inputs=X, outputs=Y)\n",
        "generator.compile(loss=tf.keras.losses.SparseCategoricalCrossentropy(from_logits = True), optimizer='adam', metrics=[perplexity, sparse_categorical_crossentropy])\n",
        "print(generator.summary())"
      ],
      "execution_count": 27,
      "outputs": [
        {
          "output_type": "stream",
          "text": [
            "Model: \"model_1\"\n",
            "__________________________________________________________________________________________________\n",
            "Layer (type)                    Output Shape         Param #     Connected to                     \n",
            "==================================================================================================\n",
            "input_2 (InputLayer)            [(1, None)]          0                                            \n",
            "__________________________________________________________________________________________________\n",
            "embedding_1 (Embedding)         (1, None, 200)       12400       input_2[0][0]                    \n",
            "__________________________________________________________________________________________________\n",
            "dense_4 (Dense)                 (1, None, 200)       40200       embedding_1[0][0]                \n",
            "__________________________________________________________________________________________________\n",
            "lstm_2 (LSTM)                   [(1, None, 2048), (1 18423808    dense_4[0][0]                    \n",
            "__________________________________________________________________________________________________\n",
            "dropout_2 (Dropout)             (1, None, 2048)      0           lstm_2[0][0]                     \n",
            "__________________________________________________________________________________________________\n",
            "dense_5 (Dense)                 (1, None, 200)       409800      dropout_2[0][0]                  \n",
            "__________________________________________________________________________________________________\n",
            "tf.concat_2 (TFOpLambda)        (1, 4096)            0           lstm_2[0][1]                     \n",
            "                                                                 lstm_2[0][1]                     \n",
            "__________________________________________________________________________________________________\n",
            "tf.concat_3 (TFOpLambda)        (1, 4096)            0           lstm_2[0][1]                     \n",
            "                                                                 lstm_2[0][1]                     \n",
            "__________________________________________________________________________________________________\n",
            "lstm_3 (LSTM)                   [(1, None, 4096), (1 70402048    dense_5[0][0]                    \n",
            "                                                                 tf.concat_2[0][0]                \n",
            "                                                                 tf.concat_3[0][0]                \n",
            "__________________________________________________________________________________________________\n",
            "dropout_3 (Dropout)             (1, None, 4096)      0           lstm_3[0][0]                     \n",
            "__________________________________________________________________________________________________\n",
            "dense_6 (Dense)                 (1, None, 300)       1229100     dropout_3[0][0]                  \n",
            "__________________________________________________________________________________________________\n",
            "dense_7 (Dense)                 (1, None, 62)        18662       dense_6[0][0]                    \n",
            "==================================================================================================\n",
            "Total params: 90,536,018\n",
            "Trainable params: 90,536,018\n",
            "Non-trainable params: 0\n",
            "__________________________________________________________________________________________________\n",
            "None\n"
          ],
          "name": "stdout"
        }
      ]
    },
    {
      "cell_type": "code",
      "metadata": {
        "id": "whB1azhVAtrp"
      },
      "source": [
        "# Import trained weights from RNN to generator\n",
        "load_file = False\n",
        "if load_file:\n",
        "  generator.load_weights(\"deep_comedy_custom_loss_01.h5\")\n",
        "else:\n",
        "  generator.set_weights(model.get_weights())"
      ],
      "execution_count": 28,
      "outputs": []
    },
    {
      "cell_type": "code",
      "metadata": {
        "id": "vE2hYSqAAtkn"
      },
      "source": [
        "def generate_text(start_string, model, num_generate = 1000, temperature = 1.0):\n",
        "    \n",
        "    # Vectorize input string\n",
        "    input_eval = [char2idx[s] for s in start_string]  \n",
        "    input_eval = tf.expand_dims(input_eval, 0)\n",
        "    \n",
        "    text_generated = [] # List to append predicted chars \n",
        "    predicted_ids = []\n",
        "    \n",
        "    idx2char = { v: k for k, v in char2idx.items() }  # invert char-index mapping\n",
        "    \n",
        "    model.reset_states()\n",
        "    \n",
        "    for i in range(num_generate):\n",
        "        predictions = model(input_eval)\n",
        "        predictions = tf.squeeze(predictions, 0)\n",
        "        \n",
        "        # sample next char based on distribution and temperature\n",
        "        predictions = predictions / temperature\n",
        "        predicted_id = tf.random.categorical(predictions, num_samples=1)[-1,0].numpy()\n",
        "        \n",
        "        input_eval = tf.expand_dims([predicted_id], 0)  # one letter input\n",
        "        \n",
        "        # build the input for the next iteration, based on the last 5 characters generated\n",
        "        # become like a poetry!\n",
        "        #predicted_ids.append(predicted_id)\n",
        "        #if len(predicted_ids) > 5:\n",
        "        #  predicted_ids = predicted_ids[1:]\n",
        "        #input_eval = tf.expand_dims(predicted_ids, 0)\n",
        "\n",
        "        text_generated.append(idx2char[predicted_id])\n",
        "        \n",
        "    return (start_string + ''.join(text_generated))"
      ],
      "execution_count": 38,
      "outputs": []
    },
    {
      "cell_type": "code",
      "metadata": {
        "id": "4_NWeo1fAtiC",
        "colab": {
          "base_uri": "https://localhost:8080/"
        },
        "outputId": "e131a369-fcee-4c50-db33-30eca1c7d85b"
      },
      "source": [
        "# Let's feed the first lines:\n",
        "start_string = \"\"\"\n",
        "Nel mezzo del cammin di nostra vita\n",
        "mi ritrovai per una selva oscura,\n",
        "chè la diritta via era smarrita.\n",
        "\n",
        "\"\"\"\n",
        "\n",
        "for t in [0.1, 0.2, 0.2, 0.5, 1.0]:\n",
        "    print(\"####### TEXT GENERATION - temperature = {}\\n\".format(t))\n",
        "    print(generate_text(start_string, generator, num_generate = 1000, temperature = t))\n",
        "    print(\"\\n\\n\\n\")"
      ],
      "execution_count": null,
      "outputs": [
        {
          "output_type": "stream",
          "text": [
            "####### TEXT GENERATION - temperature = 0.1\n",
            "\n"
          ],
          "name": "stdout"
        }
      ]
    },
    {
      "cell_type": "code",
      "metadata": {
        "colab": {
          "base_uri": "https://localhost:8080/"
        },
        "id": "6XVUs8zgC5mF",
        "outputId": "6ae7dbf4-799f-42be-8293-2f69abd1cfa8"
      },
      "source": [
        "print(\"FINISCHED\")"
      ],
      "execution_count": null,
      "outputs": [
        {
          "output_type": "stream",
          "text": [
            "FINISCHED\n"
          ],
          "name": "stdout"
        }
      ]
    },
    {
      "cell_type": "code",
      "metadata": {
        "id": "Ed-aAA291bUU",
        "colab": {
          "base_uri": "https://localhost:8080/"
        },
        "outputId": "69392861-9729-4e99-c519-facd3733290f"
      },
      "source": [
        "# Exam mode for 1 Canto so 33 terzine\n",
        "start_inferno = \"\"\"\n",
        "Nel mezzo del cammin di nostra vita\n",
        "mi ritrovai per una selva oscura,\n",
        "chè la diritta via era smarrita.\n",
        "\n",
        "\"\"\"\n",
        "\n",
        "start_purgatorio = \"\"\"\n",
        "Per correr miglior acque alza le vele\n",
        "omai la navicella del mio ingegno,\n",
        "che lascia dietro a se mar si crudele;\n",
        "\n",
        "\"\"\"\n",
        "\n",
        "start_paradiso = \"\"\"\n",
        "La gloria di colui che tutto move\n",
        "per l'universo penetra, e risplende\n",
        "in una parte più e meno altrove.\n",
        "\n",
        "\"\"\"\n",
        "\n",
        "print(generate_text(start_string = start_purgatorio, num_generate = 1000, temperature = 0.1))"
      ],
      "execution_count": null,
      "outputs": [
        {
          "output_type": "stream",
          "text": [
            "\n",
            "Per correr miglior acque alza le vele\n",
            "omai la navicella del mio ingegno,\n",
            "che lascia dietro a se mar si crudele;\n",
            "\n",
            "e canterò di quel secondo regno\n",
            "dove l'umano spirito si purga\n",
            "e di salire al ciel diventa degno. \n",
            "\n",
            "Ma qui la morta poesì resurga,\n",
            "o sante Muse, poi che vostro sono;\n",
            "e qui Caliopè alquanto surga, \n",
            "\n",
            "seguitando il mio canto con quel suono\n",
            "di cui le Piche misere sentiro\n",
            "lo colpo tal, che disperar perdono. \n",
            "\n",
            "Dolce color d'oriental zaffiro,\n",
            "che s'accogliendo il carro e la vergogna\n",
            "per la mia morte, e per la mesta salusfa\n",
            "o da prova che riceve il sole e 'l verno, \n",
            "\n",
            "per la ragion che di', quinci si parte\n",
            "verso settentrion, quanto li Ebrei\n",
            "vedevan lui verso la calda parte. \n",
            "\n",
            "Ma se a te piace, volontier saprei\n",
            "quanto avemo ad andar; ché 'l poggio sale\n",
            "più che salir non posson li occhi miei\". \n",
            "\n",
            "Ed elli a me: \"Se tu segui tua stella,\n",
            "non puoi fallire a glorioso porto,\n",
            "se ben m'accorsi ne la vita bella; \n",
            "\n",
            "e s'io non fossi sì per tempo morto,\n",
            "veggendo il cielo a te così benigno,\n",
            "dato t'avrei a l'opera conforto. \n",
            "\n",
            "Ma quelle dolci volle esser devota,\n",
            "e lasciar sedea tutta rive tramma. \n",
            "\n",
            "E per vente vo\n"
          ],
          "name": "stdout"
        }
      ]
    },
    {
      "cell_type": "markdown",
      "metadata": {
        "id": "zbXuy2OopudL"
      },
      "source": [
        "# NEW IDEAS\n",
        "\n",
        "#### Training:\n",
        "*   Cross validation\n",
        "*   Insert Rhyme as feature to learn as haiku\n",
        "*   Use syllable as input and not word\n",
        "*   Different training on different dataset\n",
        "* Use categorical_crossentropy instead of sparse_ but with one-hot encoded inputs\n",
        "* Symbols for explicit start and end terzina\n",
        "* training as classificator for structure: like \"these two world are rhymes\" or \"this is a endecasillable and this not\" or \"this is a terzina and this not\" then generation\n",
        "* use dropout \n",
        "* use two lstm\n",
        "* \n",
        "\n",
        "#### Presentation\n",
        "* graphs over the vocabulary like distribution of used words\n",
        "\n",
        "\n"
      ]
    },
    {
      "cell_type": "code",
      "metadata": {
        "id": "d7hZnK6wpy0j"
      },
      "source": [
        "RNN = Sequential([\n",
        "    Embedding(vocab_size, embedding_size,\n",
        "              batch_input_shape=(batch_size, None)),\n",
        "              \n",
        "    Dense(embedding_size, activation = relu),\n",
        "    \n",
        "    LSTM(len_input, return_sequences = True),\n",
        "\n",
        "    Dropout(0.3),\n",
        "    \n",
        "    Dense(hidden_size, activation = relu), \n",
        "\n",
        "    Dropout(0.3),\n",
        "    \n",
        "    Dense(vocab_size)\n",
        "])\n",
        "\n",
        "RNN.summary()\n",
        "\n",
        "generator = Sequential([\n",
        "    Embedding(vocab_size, embedding_size,batch_input_shape=(1, None)),\n",
        "\n",
        "    Dense(embedding_size, activation = relu),\n",
        "    \n",
        "    LSTM(len_input, return_sequences = True, stateful=True),\n",
        "\n",
        "    Dropout(0.3),\n",
        "    \n",
        "    Dense(hidden_size, activation = relu), \n",
        "\n",
        "    Dropout(0.3),\n",
        "    \n",
        "    Dense(vocab_size)\n",
        "\n",
        "\n",
        "])\n",
        "\n",
        "generator.summary()"
      ],
      "execution_count": null,
      "outputs": []
    },
    {
      "cell_type": "code",
      "metadata": {
        "id": "kRSpzyH2BaG4"
      },
      "source": [
        "#@title\n",
        "#@DEBUG CUSTOM LOSS\n",
        "\n",
        "x = [[49, 46, 36, 44, 49, 32, 48, 36,  1, 45,  1, 35, 51, 36,  1, 45,  1, 50,\n",
        " 48, 36,  1, 46, 36, 48,  1, 49, 36, 30,  5,  0, 44, 45, 44,  1, 42, 32,\n",
        "  1, 37, 45, 48, 50, 51, 44, 32,  1, 35, 40,  1, 46, 48, 40, 43, 32,  1,\n",
        " 52, 32, 34, 32, 44, 50, 36,  5,  0, 44, 45, 44,  1, 35, 36, 34, 40, 43,\n",
        " 32, 49,  5,  1, 47, 51, 32, 36,  1, 49, 51, 44, 50,  1, 46, 32, 51, 46,\n",
        " 36, 48, 51, 43,  1, 14, 36, 40,  5,  1,  0,  0, 32, 35, 35, 40, 43, 32,\n",
        " 44, 35, 60,  5,  1, 43, 32,  1, 34, 45, 44, 50, 48, 45,  1, 32, 42,  1,\n",
        " 43, 45, 44, 35, 45,  1, 36, 48, 48, 32, 44, 50, 36,  0, 42, 40, 34, 36,\n",
        " 44, 55, 32,  1, 35, 40], \n",
        " [42,  1, 34, 45, 44, 49, 40, 38, 42, 40, 45,  1, 44, 36, 42,  1, 47, 51,\n",
        " 32, 42, 36,  1, 45, 38, 44, 36,  1, 32, 49, 46, 36, 50, 50, 45,  0, 34,\n",
        " 48, 36, 32, 50, 45,  1, 58,  1, 52, 40, 44, 50, 45,  1, 46, 48, 40, 32,\n",
        "  1, 34, 39, 36,  1, 52, 32, 35, 32,  1, 32, 42,  1, 37, 45, 44, 35, 45,\n",
        "  5,  1,  0,  0, 46, 36, 48, 60,  1, 34, 39, 36,  1, 32, 44, 35, 32, 49,\n",
        " 49, 36,  1, 52, 36, 48,  4,  1, 42, 45,  1, 49, 51, 45,  1, 35, 40, 42,\n",
        " 36, 50, 50, 45,  0, 42, 32,  1, 49, 46, 45, 49, 32,  1, 35, 40,  1, 34,\n",
        " 45, 42, 51, 40,  1, 34, 39,  4, 32, 35,  1, 32, 42, 50, 36,  1, 38, 48,\n",
        " 40, 35, 32,  0, 35, 40,]]\n",
        "y = [[46, 36, 44, 49, 32, 48, 36,  1, 45,  1, 35, 51, 36,  1, 45,  1, 50, 48,\n",
        " 36,  1, 46, 36, 48,  1, 49, 36, 40,  5,  0, 44, 45, 44,  1, 42, 32,  1,\n",
        " 37, 45, 48, 50, 51, 44, 32,  1, 35, 40,  1, 46, 48, 40, 43, 32,  1, 52,\n",
        " 32, 34, 32, 44, 50, 36,  5,  0, 44, 45, 44,  1, 35, 36, 34, 40, 43, 32,\n",
        " 49,  5,  1, 47, 51, 32, 36,  1, 49, 51, 44, 50,  1, 46, 32, 51, 46, 36,\n",
        " 48, 51, 43,  1, 14, 36, 40,  5,  1,  0,  0, 32, 35, 35, 40, 43, 32, 44,\n",
        " 35, 60,  5,  1, 43, 32,  1, 34, 45, 44, 50, 48, 45,  1, 32, 42,  1, 43,\n",
        " 45, 44, 35, 45,  1, 36, 48, 48, 32, 44, 50, 36,  0, 42, 40, 34, 36, 44,\n",
        " 55, 32,  1, 35, 40,  1], [ 1, 34, 45, 44, 49, 40, 38, 42, 40, 45,  1, 44, 36, 42,  1, 47, 51, 32,\n",
        " 42, 36,  1, 45, 38, 44, 36,  1, 32, 49, 46, 36, 50, 50, 45,  0, 34, 48,\n",
        " 36, 32, 50, 45,  1, 58,  1, 52, 40, 44, 50, 45,  1, 46, 48, 40, 32,  1,\n",
        " 34, 39, 36,  1, 52, 32, 35, 32,  1, 32, 42,  1, 37, 45, 44, 35, 45,  5,\n",
        "  1,  0,  0, 46, 36, 48, 60,  1, 34, 39, 36,  1, 32, 44, 35, 32, 49, 49,\n",
        " 36,  1, 52, 36, 48,  4,  1, 42, 45,  1, 49, 51, 45,  1, 35, 40, 42, 36,\n",
        " 50, 50, 45,  0, 42, 32,  1, 49, 46, 45, 49, 32,  1, 35, 40,  1, 34, 45,\n",
        " 42, 51, 40,  1, 34, 39,  4, 32, 35,  1, 32, 42, 50, 36,  1, 38, 48, 40,\n",
        " 35, 32,  0, 35, 40, 49,] ]\n",
        "\n",
        "'''\n",
        "EXPERIMENT\n",
        "CUSTOM LOSS\n",
        "'''\n",
        "from functools import reduce\n",
        "\n",
        "\n",
        "def divide_versi(y):\n",
        "  doppiozero = False\n",
        "\n",
        "  y_divided = [[]]\n",
        "  for ly in y:\n",
        "    ly = int(ly)\n",
        "\n",
        "    # devo pulire la lista dai segni di punteggiatura, \n",
        "    # in chartoidx significa i numeri da 1 a 10 compresi.\n",
        "    if ly in [1, 2, 3, 4, 5, 6, 7, 8, 9, 10]:  # con i Tensor non funziona\n",
        "    # if ly is 1 or ly is 2 or ly is 3 or ly is 4 or ly is 5 or ly is 6 or ly is 7 \\\n",
        "    #     or ly is 8 or ly is 9 or ly is 10:\n",
        "        continue\n",
        "    else:\n",
        "      # se è zero vuol dire \\n quindi aggiungo una nuova riga\n",
        "      if ly is 0:\n",
        "        if not doppiozero:\n",
        "          y_divided.append([])\n",
        "        doppiozero = True\n",
        "        continue\n",
        "\n",
        "      y_divided[-1].append(ly)\n",
        "      doppiozero = False\n",
        "\n",
        "  if y_divided is not []:\n",
        "    if y[-1] != 0:\n",
        "      # dato che l'ultima riga non finisce con 0 vuol dire che è incompleta e la rimuovo\n",
        "      y_divided.pop()\n",
        "\n",
        "  # i need to re check because maybe i pop the only one\n",
        "  if len(y_divided) != 0:\n",
        "    if len(y_divided[0]) < 3:\n",
        "      # se la prima riga è minore di 4 non posso farci nulla quindi la elimino\n",
        "      y_divided.pop(0)\n",
        "\n",
        "  return y_divided\n",
        "\n",
        "def rhymes_extractor(y_divided):\n",
        "  # estraggo lo schema di rime da y\n",
        "  rhymes = []\n",
        "  for i in range(len(y_divided)):\n",
        "    # con la fine del verso (ultime due lettere) controllo se le altre righe \n",
        "    # finiscono con le stesse lettere\n",
        "    vy = y_divided[i]\n",
        "\n",
        "    last_word_1 = vy[-2:]\n",
        "\n",
        "    # ABA BCB CDC\n",
        "\n",
        "    # devo controllare se la riga i fa rima con la riga i+2 \n",
        "    if i+2 < len(y_divided):\n",
        "      next_vy = y_divided[i+2]\n",
        "      # print(vy[-2:])\n",
        "      # print(next_vy[-2:])\n",
        "      if last_word_1 == next_vy[-2:]:\n",
        "        rhymes.append((i, i+2))\n",
        "    \n",
        "    if i+4 < len(y_divided):\n",
        "      # print(vy[-2:])\n",
        "      # print(next_vy[-2:])\n",
        "      next_vy = y_divided[i+4]\n",
        "      if last_word_1 == next_vy[-2:]:\n",
        "        rhymes.append((i, i+4))\n",
        "\n",
        "  # print(rhymes)\n",
        "  return rhymes\n",
        "\n",
        "\n",
        "def get_custom_loss(x_batch, y_batch):\n",
        "  summed_custom_loss = 0\n",
        "  # x_batch ha lo shape (200, 200) quindi ho 200 vettori con 200 lettere ognuno\n",
        "  # le 200 lettere sono le feature\n",
        "\n",
        "  # max numero di rime possibili (arbitrario)\n",
        "  max_rhymes = 4\n",
        "\n",
        "  print(\"Shape di x_batch e y_batch\")\n",
        "  print((len(x_batch), len(x_batch[0])))\n",
        "  print((len(y_batch), len(y_batch[0])))\n",
        "\n",
        "  x_bin_tot = np.ones(shape=(len(x_batch), max_rhymes), dtype='float32')\n",
        "  y_bin_tot = np.ones(shape=(len(x_batch), max_rhymes), dtype='float32')\n",
        "\n",
        "  # scorro i 200 vettori\n",
        "  # for (x, y) in zip(x_batch, y_batch):  # Non funziona con i tensori\n",
        "  for v in range(len(x_batch)):\n",
        "    x = x_batch[v]\n",
        "    y = y_batch[v]\n",
        "\n",
        "    # given that the model returns a matrix with shape (150, 62) with the probability\n",
        "    # for each of the 62 character i need to use a categorical to choose the best\n",
        "    # then flatten the matrix into a list for evaluating\n",
        "    predicted_text = list(tf.random.categorical(x, num_samples=1).numpy())\n",
        "    x = np.concatenate(predicted_text).ravel().tolist()\n",
        "\n",
        "    # dividio il vettore in versi utili\n",
        "    x_divided = divide_versi(x)\n",
        "    y_divided = divide_versi(y)\n",
        "\n",
        "    print(\"Divisione in versi di x_batch e y_batch\")\n",
        "    print(x_divided)\n",
        "    print(y_divided)\n",
        "\n",
        "    # assicuro che il numero di versi siano uguali\n",
        "    # !!! non posso perchè il generato può avere errori e quindi, per esempio,\n",
        "    # avere più o meno versi\n",
        "    # assert len(x_divided) == len(y_divided)\n",
        "\n",
        "    # estraggo lo schema di rime\n",
        "    x_rhymes = rhymes_extractor(x_divided)\n",
        "    y_rhymes = rhymes_extractor(y_divided)\n",
        "\n",
        "    print(\"Rime dei versi di x_batch e y_batch\")\n",
        "    print(x_rhymes)\n",
        "    print(y_rhymes)\n",
        "\n",
        "    # mi ritorna una lista con il numero delle righe che fanno rima\n",
        "    # Esempio: [(1,3), (2,4)] significa che le righe 1 e 3 fanno rima e che le \n",
        "    # righe 2 e 4 pure \n",
        "    # TODO se avessimo due terzine intere si potrebbe valutare rime a 3 righe [aBaBcB]\n",
        "\n",
        "    # creo un vettore di 1 per la y perchè le rime ci sono sempre\n",
        "    y_bin = np.ones(max_rhymes, dtype='float32')\n",
        "    # creo un vettore di 1 per le rime generate, metterò 0 se la rima \n",
        "    # NON è presente in dante, abbuono con uno 0.5 visto che c'è la rima almeno\n",
        "    x_bin = np.ones(max_rhymes, dtype='float32')\n",
        "\n",
        "    if x_rhymes == []:\n",
        "      x_bin = np.zeros(max_rhymes, dtype='float32')\n",
        "\n",
        "    # se la rima generata è nelle rime originali di Dante allora la segno come valida\n",
        "    # tengo massimo max_ryhmes rime: posso perchè in 150-200 caratteri non ho più di 5-6 righe\n",
        "    # quindi in Dante avrei 2 rime, eccedo di 2 per aiutare la rete a creare rime anche sbagliate\n",
        "    for i in range(max_rhymes+1):\n",
        "      if i < len(x_rhymes):\n",
        "        if y_rhymes[i] not in x_rhymes:\n",
        "          x_bin[i] = 0.\n",
        "        if x_rhymes[i] not in y_rhymes:\n",
        "          x_bin[i] = 0.5\n",
        "\n",
        "    print(\"Vettore che rappresenta il confronto delle rime tra il generato e Dante dei versi di x_batch e y_batch \\n y è sempre 1 mentre il generato ha 1 se la rima c'è in dante o 0.5 se non c'è \")\n",
        "    print(x_bin)\n",
        "    print(y_bin)\n",
        "      \n",
        "    # concateno i vettori con l'encoding delle rime\n",
        "    x_bin_tot[v] = x_bin\n",
        "    y_bin_tot[v] = y_bin\n",
        "\n",
        "  print(\"Matrice dei vettori su cui eseguo la MSE: (x,y)\")\n",
        "  print(x_bin_tot)\n",
        "  print(y_bin_tot)\n",
        "  r = tf.keras.losses.mean_squared_error(y_bin_tot, x_bin_tot)\n",
        "\n",
        "  print(\"Risultato della MSE:\")\n",
        "  print(r)\n",
        "\n",
        "  print(\"Loss finale fatta con la media della MSE\")\n",
        "  print(np.mean(r))\n",
        "  # MSE sui vettori\n",
        "  return np.mean(r)\n",
        "\n",
        "\n",
        "\n",
        "debug_loss = True\n",
        "custom_loss = get_custom_loss(x,y)\n",
        "print(custom_loss)\n",
        "\n",
        "# NEW VERSION\n",
        "# creo un vettore con le rime di y reale e di y generato\n",
        "# Ex: in y reale se ho ABABC il vettore è [1,2,1,2,3] con o zero ad indicare nulla\n",
        "# per y generato devo creare un vettore di lunghezza uguale per poi valutarlo con una sparse_crossentropy\n",
        "# problema: non avrà mai le stesse righe\n",
        "\n",
        "# extract matrix of index of where the zeros are\n",
        "#tf.map_fn(fn=lambda t: t.map_fn(fn=lambda x: 1 if x == 0 else 0), elems=x_batch)\n"
      ],
      "execution_count": null,
      "outputs": []
    }
  ]
}