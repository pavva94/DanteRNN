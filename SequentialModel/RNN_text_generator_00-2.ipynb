{
  "nbformat": 4,
  "nbformat_minor": 0,
  "metadata": {
    "accelerator": "GPU",
    "colab": {
      "name": "RNN_text_generator_00.ipynb",
      "provenance": [],
      "collapsed_sections": [],
      "toc_visible": true
    },
    "kernelspec": {
      "display_name": "Python 3",
      "language": "python",
      "name": "python3"
    },
    "language_info": {
      "codemirror_mode": {
        "name": "ipython",
        "version": 3
      },
      "file_extension": ".py",
      "mimetype": "text/x-python",
      "name": "python",
      "nbconvert_exporter": "python",
      "pygments_lexer": "ipython3",
      "version": "3.7.4"
    }
  },
  "cells": [
    {
      "cell_type": "markdown",
      "metadata": {
        "id": "8m8xB0z_hYbG"
      },
      "source": [
        "# TensorFlow 2 Text generator on Dante Alighieri's Divine Comedy\n",
        "\n",
        "Author: **Ivan Bongiorni**, [LinkedIn profile](https://www.linkedin.com/in/ivan-bongiorni-b8a583164/)\n"
      ]
    },
    {
      "cell_type": "markdown",
      "metadata": {
        "id": "ncDUryHdqckI"
      },
      "source": [
        "This Notebook contains a **text generator RNN** that was trained on the **Divina Commedia** (the *Divine Comedy*) by **Dante Alighieri**. This is a poem written at the beginning of the XII century. It's hard to explain what it represents for Italian culture: it's without any doubt the main pillar of our national literature, one of the building blocks of modern Italian language, and arguably the gratest poem ever. All modern representations of Hell, Purgatory and Heaven derive from this opera.\n",
        "\n",
        "It's structure is extremely interesting: each verse is composed of 11 syllables, and its rhymes follow an **A-B-A-B** structure. Lot of pattern to be learned! "
      ]
    },
    {
      "cell_type": "code",
      "metadata": {
        "id": "R8FnhxiWY_Y1",
        "outputId": "033eeabe-5269-4ff5-9285-018869625640",
        "colab": {
          "base_uri": "https://localhost:8080/"
        }
      },
      "source": [
        "import time\n",
        "import re\n",
        "\n",
        "import numpy as np\n",
        "import pandas as pd\n",
        "\n",
        "%tensorflow_version 2.x\n",
        "import tensorflow as tf\n",
        "print(tf.__version__)\n",
        "\n",
        "from matplotlib import pyplot as plt\n",
        "\n",
        "# Read file from Colab Notebook\n",
        "#from google.colab import drive\n",
        "#drive.mount('/content/drive')"
      ],
      "execution_count": 1,
      "outputs": [
        {
          "output_type": "stream",
          "text": [
            "2.3.0\n"
          ],
          "name": "stdout"
        }
      ]
    },
    {
      "cell_type": "code",
      "metadata": {
        "id": "V5YiWU0daYkT"
      },
      "source": [
        "current_path = \" [...] /TF_2.0/NLP/text_generator/\"\n",
        "\n",
        "# Read the Divina Commedia\n",
        "with open( \"DivinaCommedia.txt\", 'r', encoding=\"utf8\") as file:\n",
        "    divina_commedia = file.read()\n",
        "\n",
        "# Replace rare characters\n",
        "divina_commedia = divina_commedia.replace(\"ä\", \"a\")\n",
        "divina_commedia = divina_commedia.replace(\"é\", \"è\")\n",
        "divina_commedia = divina_commedia.replace(\"ë\", \"è\")\n",
        "divina_commedia = divina_commedia.replace(\"Ë\", \"E\")\n",
        "divina_commedia = divina_commedia.replace(\"ï\", \"i\")\n",
        "divina_commedia = divina_commedia.replace(\"Ï\", \"I\")\n",
        "divina_commedia = divina_commedia.replace(\"ó\", \"ò\")\n",
        "divina_commedia = divina_commedia.replace(\"ö\", \"o\")\n",
        "divina_commedia = divina_commedia.replace(\"ü\", \"u\")\n",
        "\n",
        "divina_commedia = divina_commedia.replace(\"(\", \"-\")\n",
        "divina_commedia = divina_commedia.replace(\")\", \"-\")\n",
        "#divina_commedia = divina_commedia.replace(\"[\", \"\")\n",
        "#divina_commedia = divina_commedia.replace(\"]\", \"\")\n",
        "\n",
        "divina_commedia = re.sub(r'[0-9]+', '', divina_commedia)\n",
        "divina_commedia = re.sub(r'\\[.*\\r?\\n', '', divina_commedia)\n",
        "divina_commedia = re.sub(r'.*Canto.*\\r?\\n', '', divina_commedia)\n",
        "\n",
        "# divina_commedia = divina_commedia.replace(\" \\n\", \"\\n\")  # with this i lose the \"terzina\": results are not so exciting\n",
        "#divina_commedia = divina_commedia.replace(\" \\n\", \"<eot>\")  # end of terzina\n",
        "#divina_commedia = divina_commedia.replace(\"\\n\", \"<eor>\")"
      ],
      "execution_count": 2,
      "outputs": []
    },
    {
      "cell_type": "code",
      "metadata": {
        "id": "ynI7x9Rp7yQe",
        "outputId": "d7b0addf-96bb-4103-ddcc-40a3a83224b6",
        "colab": {
          "base_uri": "https://localhost:8080/"
        }
      },
      "source": [
        "print(divina_commedia[1:1000])"
      ],
      "execution_count": null,
      "outputs": [
        {
          "output_type": "stream",
          "text": [
            "NFERNO\n",
            "\n",
            "\n",
            "\n",
            "Nel mezzo del cammin di nostra vita\n",
            "mi ritrovai per una selva oscura,\n",
            "chè la diritta via era smarrita.\n",
            "\n",
            "Ahi quanto a dir qual era è cosa dura\n",
            "esta selva selvaggia e aspra e forte\n",
            "che nel pensier rinova la paura! \n",
            "\n",
            "Tant'è amara che poco è più morte;\n",
            "ma per trattar del ben ch'i' vi trovai,\n",
            "dirò de l'altre cose ch'i' v' ho scorte. \n",
            "\n",
            "Io non so ben ridir com'i' v'intrai,\n",
            "tant'era pien di sonno a quel punto\n",
            "che la verace via abbandonai. \n",
            "\n",
            "Ma poi ch'i' fui al piè d'un colle giunto,\n",
            "là dove terminava quella valle\n",
            "che m'avea di paura il cor compunto, \n",
            "\n",
            "guardai in alto e vidi le sue spalle\n",
            "vestite già de' raggi del pianeta\n",
            "che mena dritto altrui per ogne calle. \n",
            "\n",
            "Allor fu la paura un poco queta,\n",
            "che nel lago del cor m'era durata\n",
            "la notte ch'i' passai con tanta pieta. \n",
            "\n",
            "E come quei che con lena affannata,\n",
            "uscito fuor del pelago a la riva,\n",
            "si volge a l'acqua perigliosa e guata, \n",
            "\n",
            "così l'animo mio, ch'ancor fuggiva,\n",
            "si volse a retro a rimirar lo passo\n",
            "che non lasciò già mai persona viva.\n"
          ],
          "name": "stdout"
        }
      ]
    },
    {
      "cell_type": "code",
      "metadata": {
        "id": "ILphRXIXaYrP",
        "outputId": "cb3bbbfb-2ad0-40ff-fa3c-2bb204db2edf",
        "colab": {
          "base_uri": "https://localhost:8080/"
        }
      },
      "source": [
        "# Check lenght of text\n",
        "print(len(divina_commedia))"
      ],
      "execution_count": null,
      "outputs": [
        {
          "output_type": "stream",
          "text": [
            "534048\n"
          ],
          "name": "stdout"
        }
      ]
    },
    {
      "cell_type": "markdown",
      "metadata": {
        "id": "uZw3-Joyhg5l"
      },
      "source": [
        "I will now extract the set of unique characters, and create a dictionary for vectorization of text. In order to feed the text into a Neural Network, I must turn each character into a number."
      ]
    },
    {
      "cell_type": "code",
      "metadata": {
        "id": "KwvjeLGWAVE4"
      },
      "source": [
        "# Store unique characters into a dict with numerical encoding\n",
        "unique_chars = list(set(divina_commedia))\n",
        "unique_chars.sort()  # to make sure you get the same encoding at each run\n",
        "\n",
        "# Store them in a dict, associated with a numerical index\n",
        "char2idx = { char[1]: char[0] for char in enumerate(unique_chars) }\n"
      ],
      "execution_count": 3,
      "outputs": []
    },
    {
      "cell_type": "code",
      "metadata": {
        "id": "tkXOJ3LGAVCF",
        "outputId": "6bc0c8ad-0d11-41ae-cfa6-0f68f0a1b6a8",
        "colab": {
          "base_uri": "https://localhost:8080/"
        }
      },
      "source": [
        "print(len(char2idx))"
      ],
      "execution_count": null,
      "outputs": [
        {
          "output_type": "stream",
          "text": [
            "62\n"
          ],
          "name": "stdout"
        }
      ]
    },
    {
      "cell_type": "code",
      "metadata": {
        "id": "2sieJxDhAU_V",
        "outputId": "8621db01-c772-4b9d-905a-4c4a4e3d32ce",
        "colab": {
          "base_uri": "https://localhost:8080/"
        }
      },
      "source": [
        "char2idx"
      ],
      "execution_count": null,
      "outputs": [
        {
          "output_type": "execute_result",
          "data": {
            "text/plain": [
              "{'\\n': 0,\n",
              " ' ': 1,\n",
              " '!': 2,\n",
              " '\"': 3,\n",
              " \"'\": 4,\n",
              " ',': 5,\n",
              " '-': 6,\n",
              " '.': 7,\n",
              " ':': 8,\n",
              " ';': 9,\n",
              " '?': 10,\n",
              " 'A': 11,\n",
              " 'B': 12,\n",
              " 'C': 13,\n",
              " 'D': 14,\n",
              " 'E': 15,\n",
              " 'F': 16,\n",
              " 'G': 17,\n",
              " 'H': 18,\n",
              " 'I': 19,\n",
              " 'L': 20,\n",
              " 'M': 21,\n",
              " 'N': 22,\n",
              " 'O': 23,\n",
              " 'P': 24,\n",
              " 'Q': 25,\n",
              " 'R': 26,\n",
              " 'S': 27,\n",
              " 'T': 28,\n",
              " 'U': 29,\n",
              " 'V': 30,\n",
              " 'Z': 31,\n",
              " 'a': 32,\n",
              " 'b': 33,\n",
              " 'c': 34,\n",
              " 'd': 35,\n",
              " 'e': 36,\n",
              " 'f': 37,\n",
              " 'g': 38,\n",
              " 'h': 39,\n",
              " 'i': 40,\n",
              " 'j': 41,\n",
              " 'l': 42,\n",
              " 'm': 43,\n",
              " 'n': 44,\n",
              " 'o': 45,\n",
              " 'p': 46,\n",
              " 'q': 47,\n",
              " 'r': 48,\n",
              " 's': 49,\n",
              " 't': 50,\n",
              " 'u': 51,\n",
              " 'v': 52,\n",
              " 'x': 53,\n",
              " 'y': 54,\n",
              " 'z': 55,\n",
              " 'È': 56,\n",
              " 'à': 57,\n",
              " 'è': 58,\n",
              " 'ì': 59,\n",
              " 'ò': 60,\n",
              " 'ù': 61}"
            ]
          },
          "metadata": {
            "tags": []
          },
          "execution_count": 8
        }
      ]
    },
    {
      "cell_type": "markdown",
      "metadata": {
        "id": "G2H5G86HhyvE"
      },
      "source": [
        "Once I have a dictionary that maps each characted with its respective numerical index, I can process the whole corpus."
      ]
    },
    {
      "cell_type": "code",
      "metadata": {
        "id": "vk_BqFK4AU9H"
      },
      "source": [
        "def numerical_encoding(text, char_dict):\n",
        "    \"\"\" Text to list of chars, to np.array of numerical idx \"\"\"\n",
        "    chars_list = [ char for char in text ]\n",
        "    chars_list = [ char_dict[char] for char in chars_list ]\n",
        "    chars_list = np.array(chars_list)\n",
        "    return chars_list\n"
      ],
      "execution_count": 4,
      "outputs": []
    },
    {
      "cell_type": "code",
      "metadata": {
        "id": "r7JpYN9LAU7U",
        "outputId": "ff846e2d-d6cb-4526-e052-83759a5da392",
        "colab": {
          "base_uri": "https://localhost:8080/"
        }
      },
      "source": [
        "# Let's see what the first line will look like\n",
        "print(\"{}\".format(divina_commedia[276:511]))\n",
        "print(\"\\nbecomes:\")\n",
        "print(numerical_encoding(divina_commedia[276:511], char2idx))"
      ],
      "execution_count": null,
      "outputs": [
        {
          "output_type": "stream",
          "text": [
            "el ben ch'i' vi trovai,\n",
            "dirò de l'altre cose ch'i' v' ho scorte. \n",
            "\n",
            "Io non so ben ridir com'i' v'intrai,\n",
            "tant'era pien di sonno a quel punto\n",
            "che la verace via abbandonai. \n",
            "\n",
            "Ma poi ch'i' fui al piè d'un colle giunto,\n",
            "là dove terminava qu\n",
            "\n",
            "becomes:\n",
            "[36 42  1 33 36 44  1 34 39  4 40  4  1 52 40  1 50 48 45 52 32 40  5  0\n",
            " 35 40 48 60  1 35 36  1 42  4 32 42 50 48 36  1 34 45 49 36  1 34 39  4\n",
            " 40  4  1 52  4  1 39 45  1 49 34 45 48 50 36  7  1  0  0 19 45  1 44 45\n",
            " 44  1 49 45  1 33 36 44  1 48 40 35 40 48  1 34 45 43  4 40  4  1 52  4\n",
            " 40 44 50 48 32 40  5  0 50 32 44 50  4 36 48 32  1 46 40 36 44  1 35 40\n",
            "  1 49 45 44 44 45  1 32  1 47 51 36 42  1 46 51 44 50 45  0 34 39 36  1\n",
            " 42 32  1 52 36 48 32 34 36  1 52 40 32  1 32 33 33 32 44 35 45 44 32 40\n",
            "  7  1  0  0 21 32  1 46 45 40  1 34 39  4 40  4  1 37 51 40  1 32 42  1\n",
            " 46 40 58  1 35  4 51 44  1 34 45 42 42 36  1 38 40 51 44 50 45  5  0 42\n",
            " 57  1 35 45 52 36  1 50 36 48 43 40 44 32 52 32  1 47 51]\n"
          ],
          "name": "stdout"
        }
      ]
    },
    {
      "cell_type": "markdown",
      "metadata": {
        "id": "HqALeTUmnl0X"
      },
      "source": [
        "## RNN dataprep\n",
        "\n",
        "I need to generate a set of stacked input sequences. My goal is to train a Neural Network to find a mapping between an input sequence and an output sequence of equal length, in which each character is shifted left of one position.\n",
        "\n",
        "For example, the first verse:\n",
        "\n",
        "> Nel mezzo del cammin di nostra vita\n",
        "\n",
        "would be translated in a train sequence as:\n",
        "\n",
        "`Nel mezzo del cammin di nostra vit`\n",
        "\n",
        "be associated with the target sequence:\n",
        "\n",
        "`el mezzo del cammin di nostra vita`\n",
        "\n",
        "The following function is a preparatory step for that. More generally, given a sequence:\n",
        "\n",
        "```\n",
        "A B C D E F G H I\n",
        "```\n",
        "\n",
        "and assuming input sequences of length 5, it will generate a matrix like:\n",
        "\n",
        "```\n",
        "A B C D E\n",
        "B C D E F\n",
        "C D E F G\n",
        "D E F G H\n",
        "E F G H I\n",
        "```\n",
        "\n",
        "I will save that matrix as it is in .csv format, to use it to train the Language Generator later.\n",
        "The split between train and target sets will be as:\n",
        "\n",
        "```\n",
        " Train:           Target:\n",
        "                 \n",
        "A B C D E        B C D E F\n",
        "B C D E F        C D E F G\n",
        "C D E F G        D E F G H\n",
        "D E F G H        E F G H I\n",
        "                 \n",
        "```\n",
        "\n",
        "Train and target sets are fundamentally the same matrix, with the train having the last row removed, and the target set having the first removed."
      ]
    },
    {
      "cell_type": "code",
      "metadata": {
        "id": "yWcZzOJdG6X9"
      },
      "source": [
        "# Apply it on the whole Comedy\n",
        "encoded_text = numerical_encoding(divina_commedia, char2idx)"
      ],
      "execution_count": 5,
      "outputs": []
    },
    {
      "cell_type": "code",
      "metadata": {
        "id": "foyC3ZnGgKLN",
        "outputId": "db64d5be-22f7-4c28-a0fc-99d29b07cb78",
        "colab": {
          "base_uri": "https://localhost:8080/"
        }
      },
      "source": [
        "print(encoded_text[311:600])"
      ],
      "execution_count": null,
      "outputs": [
        {
          "output_type": "stream",
          "text": [
            "[42 50 48 36  1 34 45 49 36  1 34 39  4 40  4  1 52  4  1 39 45  1 49 34\n",
            " 45 48 50 36  7  1  0  0 19 45  1 44 45 44  1 49 45  1 33 36 44  1 48 40\n",
            " 35 40 48  1 34 45 43  4 40  4  1 52  4 40 44 50 48 32 40  5  0 50 32 44\n",
            " 50  4 36 48 32  1 46 40 36 44  1 35 40  1 49 45 44 44 45  1 32  1 47 51\n",
            " 36 42  1 46 51 44 50 45  0 34 39 36  1 42 32  1 52 36 48 32 34 36  1 52\n",
            " 40 32  1 32 33 33 32 44 35 45 44 32 40  7  1  0  0 21 32  1 46 45 40  1\n",
            " 34 39  4 40  4  1 37 51 40  1 32 42  1 46 40 58  1 35  4 51 44  1 34 45\n",
            " 42 42 36  1 38 40 51 44 50 45  5  0 42 57  1 35 45 52 36  1 50 36 48 43\n",
            " 40 44 32 52 32  1 47 51 36 42 42 32  1 52 32 42 42 36  0 34 39 36  1 43\n",
            "  4 32 52 36 32  1 35 40  1 46 32 51 48 32  1 40 42  1 34 45 48  1 34 45\n",
            " 43 46 51 44 50 45  5  1  0  0 38 51 32 48 35 32 40  1 40 44  1 32 42 50\n",
            " 45  1 36  1 52 40 35 40  1 42 36  1 49 51 36  1 49 46 32 42 42 36  0 52\n",
            " 36]\n"
          ],
          "name": "stdout"
        }
      ]
    },
    {
      "cell_type": "code",
      "metadata": {
        "id": "t41gYByxAU4B"
      },
      "source": [
        "def get_text_matrix(sequence, len_input):\n",
        "    \n",
        "    # create empty matrix\n",
        "    X = np.empty((len(sequence)-len_input, len_input))\n",
        "    \n",
        "    # fill each row/time window from input sequence\n",
        "    for i in range(X.shape[0]):\n",
        "        X[i,:] = sequence[i : i+len_input]\n",
        "        \n",
        "    return X"
      ],
      "execution_count": 6,
      "outputs": []
    },
    {
      "cell_type": "code",
      "metadata": {
        "id": "5eazAAQiAk0i"
      },
      "source": [
        "text_matrix = get_text_matrix(encoded_text, 100)"
      ],
      "execution_count": 9,
      "outputs": []
    },
    {
      "cell_type": "code",
      "metadata": {
        "id": "KonviQjQAk40",
        "outputId": "eabaebe0-7aec-428e-de98-151819bb26a3",
        "colab": {
          "base_uri": "https://localhost:8080/"
        }
      },
      "source": [
        "print(text_matrix.shape)"
      ],
      "execution_count": null,
      "outputs": [
        {
          "output_type": "stream",
          "text": [
            "(533848, 200)\n"
          ],
          "name": "stdout"
        }
      ]
    },
    {
      "cell_type": "code",
      "metadata": {
        "id": "BaVngDG7AkyU",
        "outputId": "028a83fe-de4d-4021-ce0f-4a7b0044c663",
        "colab": {
          "base_uri": "https://localhost:8080/"
        }
      },
      "source": [
        "print(\"100th train sequence:\\n\")\n",
        "print(text_matrix[ 100, : ])\n",
        "print(\"\\n\\n100th target sequence:\\n\")\n",
        "print(text_matrix[ 101, : ])\n",
        "print(\"\\n\\n102th target sequence:\\n\")\n",
        "print(text_matrix[ 102, : ])\n",
        "print(\"\\n\\n115th target sequence:\\n\")\n",
        "print(text_matrix[ 180, : ])"
      ],
      "execution_count": null,
      "outputs": [
        {
          "output_type": "stream",
          "text": [
            "100th train sequence:\n",
            "\n",
            "[36. 48. 32.  1. 49. 43. 32. 48. 48. 40. 50. 32.  7.  0.  0. 11. 39. 40.\n",
            "  1. 47. 51. 32. 44. 50. 45.  1. 32.  1. 35. 40. 48.  1. 47. 51. 32. 42.\n",
            "  1. 36. 48. 32.  1. 58.  1. 34. 45. 49. 32.  1. 35. 51. 48. 32.  0. 36.\n",
            " 49. 50. 32.  1. 49. 36. 42. 52. 32.  1. 49. 36. 42. 52. 32. 38. 38. 40.\n",
            " 32.  1. 36.  1. 32. 49. 46. 48. 32.  1. 36.  1. 37. 45. 48. 50. 36.  0.\n",
            " 34. 39. 36.  1. 44. 36. 42.  1. 46. 36. 44. 49. 40. 36. 48.  1. 48. 40.\n",
            " 44. 45. 52. 32.  1. 42. 32.  1. 46. 32. 51. 48. 32.  2.  1.  0.  0. 28.\n",
            " 32. 44. 50.  4. 58.  1. 32. 43. 32. 48. 32.  1. 34. 39. 36.  1. 46. 45.\n",
            " 34. 45.  1. 58.  1. 46. 40. 61.  1. 43. 45. 48. 50. 36.  9.  0. 43. 32.\n",
            "  1. 46. 36. 48.  1. 50. 48. 32. 50. 50. 32. 48.  1. 35. 36. 42.  1. 33.\n",
            " 36. 44.  1. 34. 39.  4. 40.  4.  1. 52. 40.  1. 50. 48. 45. 52. 32. 40.\n",
            "  5.  0.]\n",
            "\n",
            "\n",
            "100th target sequence:\n",
            "\n",
            "[48. 32.  1. 49. 43. 32. 48. 48. 40. 50. 32.  7.  0.  0. 11. 39. 40.  1.\n",
            " 47. 51. 32. 44. 50. 45.  1. 32.  1. 35. 40. 48.  1. 47. 51. 32. 42.  1.\n",
            " 36. 48. 32.  1. 58.  1. 34. 45. 49. 32.  1. 35. 51. 48. 32.  0. 36. 49.\n",
            " 50. 32.  1. 49. 36. 42. 52. 32.  1. 49. 36. 42. 52. 32. 38. 38. 40. 32.\n",
            "  1. 36.  1. 32. 49. 46. 48. 32.  1. 36.  1. 37. 45. 48. 50. 36.  0. 34.\n",
            " 39. 36.  1. 44. 36. 42.  1. 46. 36. 44. 49. 40. 36. 48.  1. 48. 40. 44.\n",
            " 45. 52. 32.  1. 42. 32.  1. 46. 32. 51. 48. 32.  2.  1.  0.  0. 28. 32.\n",
            " 44. 50.  4. 58.  1. 32. 43. 32. 48. 32.  1. 34. 39. 36.  1. 46. 45. 34.\n",
            " 45.  1. 58.  1. 46. 40. 61.  1. 43. 45. 48. 50. 36.  9.  0. 43. 32.  1.\n",
            " 46. 36. 48.  1. 50. 48. 32. 50. 50. 32. 48.  1. 35. 36. 42.  1. 33. 36.\n",
            " 44.  1. 34. 39.  4. 40.  4.  1. 52. 40.  1. 50. 48. 45. 52. 32. 40.  5.\n",
            "  0. 35.]\n",
            "\n",
            "\n",
            "102th target sequence:\n",
            "\n",
            "[32.  1. 49. 43. 32. 48. 48. 40. 50. 32.  7.  0.  0. 11. 39. 40.  1. 47.\n",
            " 51. 32. 44. 50. 45.  1. 32.  1. 35. 40. 48.  1. 47. 51. 32. 42.  1. 36.\n",
            " 48. 32.  1. 58.  1. 34. 45. 49. 32.  1. 35. 51. 48. 32.  0. 36. 49. 50.\n",
            " 32.  1. 49. 36. 42. 52. 32.  1. 49. 36. 42. 52. 32. 38. 38. 40. 32.  1.\n",
            " 36.  1. 32. 49. 46. 48. 32.  1. 36.  1. 37. 45. 48. 50. 36.  0. 34. 39.\n",
            " 36.  1. 44. 36. 42.  1. 46. 36. 44. 49. 40. 36. 48.  1. 48. 40. 44. 45.\n",
            " 52. 32.  1. 42. 32.  1. 46. 32. 51. 48. 32.  2.  1.  0.  0. 28. 32. 44.\n",
            " 50.  4. 58.  1. 32. 43. 32. 48. 32.  1. 34. 39. 36.  1. 46. 45. 34. 45.\n",
            "  1. 58.  1. 46. 40. 61.  1. 43. 45. 48. 50. 36.  9.  0. 43. 32.  1. 46.\n",
            " 36. 48.  1. 50. 48. 32. 50. 50. 32. 48.  1. 35. 36. 42.  1. 33. 36. 44.\n",
            "  1. 34. 39.  4. 40.  4.  1. 52. 40.  1. 50. 48. 45. 52. 32. 40.  5.  0.\n",
            " 35. 40.]\n",
            "\n",
            "\n",
            "115th target sequence:\n",
            "\n",
            "[32.  1. 36.  1. 37. 45. 48. 50. 36.  0. 34. 39. 36.  1. 44. 36. 42.  1.\n",
            " 46. 36. 44. 49. 40. 36. 48.  1. 48. 40. 44. 45. 52. 32.  1. 42. 32.  1.\n",
            " 46. 32. 51. 48. 32.  2.  1.  0.  0. 28. 32. 44. 50.  4. 58.  1. 32. 43.\n",
            " 32. 48. 32.  1. 34. 39. 36.  1. 46. 45. 34. 45.  1. 58.  1. 46. 40. 61.\n",
            "  1. 43. 45. 48. 50. 36.  9.  0. 43. 32.  1. 46. 36. 48.  1. 50. 48. 32.\n",
            " 50. 50. 32. 48.  1. 35. 36. 42.  1. 33. 36. 44.  1. 34. 39.  4. 40.  4.\n",
            "  1. 52. 40.  1. 50. 48. 45. 52. 32. 40.  5.  0. 35. 40. 48. 60.  1. 35.\n",
            " 36.  1. 42.  4. 32. 42. 50. 48. 36.  1. 34. 45. 49. 36.  1. 34. 39.  4.\n",
            " 40.  4.  1. 52.  4.  1. 39. 45.  1. 49. 34. 45. 48. 50. 36.  7.  1.  0.\n",
            "  0. 19. 45.  1. 44. 45. 44.  1. 49. 45.  1. 33. 36. 44.  1. 48. 40. 35.\n",
            " 40. 48.  1. 34. 45. 43.  4. 40.  4.  1. 52.  4. 40. 44. 50. 48. 32. 40.\n",
            "  5.  0.]\n"
          ],
          "name": "stdout"
        }
      ]
    },
    {
      "cell_type": "markdown",
      "metadata": {
        "id": "hPjMSZOzh_60"
      },
      "source": [
        "# Architecture\n",
        "\n",
        "At this point, I can specify the RNN architecture with all its hyperparameters. An `Embedding()` layer will first learn a representation of each character; the sequence of chracters embedding will then be fed into an `LSTM()` layer, that will extract information from their sequence; `Dense()` layers at the end will produce the next character prediction.\n",
        "\n",
        "The Network is structured to be fed with batches of data of fixed size."
      ]
    },
    {
      "cell_type": "code",
      "metadata": {
        "id": "rFZfbimYAkvk"
      },
      "source": [
        "# size of vocabulary\n",
        "vocab_size = len(char2idx)\n",
        "\n",
        "# size of mini batches during training\n",
        "batch_size = 200  # 100\n",
        "\n",
        "\n",
        "# size of training subset at each epoch\n",
        "subset_size = batch_size * 100\n",
        "\n",
        "# vector size of char embeddings\n",
        "embedding_size = 300  # 250\n",
        "\n",
        "len_input = 2048   # 200\n",
        "\n",
        "hidden_size = 300  # for Dense() layers 250"
      ],
      "execution_count": 10,
      "outputs": []
    },
    {
      "cell_type": "code",
      "metadata": {
        "id": "A1JqO7rhAktC"
      },
      "source": [
        "from tensorflow.keras.models import Sequential\n",
        "from tensorflow.keras.layers import Embedding, LSTM, Dense, Dropout\n",
        "from tensorflow.keras.activations import elu, relu, softmax"
      ],
      "execution_count": 11,
      "outputs": []
    },
    {
      "cell_type": "code",
      "metadata": {
        "id": "K-TWWhMcdNcY",
        "outputId": "086feb6a-13e9-4be9-ff6c-cade0549dd78",
        "colab": {
          "base_uri": "https://localhost:8080/"
        }
      },
      "source": [
        "x = tf.constant([ 4, 40, 43, 43, 36, 38, 42, 40,  9,  1,  0,  0, 36,  1, 49, 59,  1, 34,\n",
        " 45, 43, 36,  1, 35, 40,  1, 42, 36, 40,  1, 33, 36, 52, 52, 36,  1, 42,\n",
        " 32,  1, 38, 48, 45, 44, 35, 31,  0, 35, 36,  1, 42, 36,  1, 46, 32, 42,\n",
        " 46, 36, 33, 48, 36,  1, 43, 40, 36,  5,  1, 34, 45, 49, 59,  1, 43, 40,\n",
        "  1, 46, 32, 48, 52, 36,  0, 35, 40,  1, 49, 51, 32,  1, 42, 51, 44, 38,\n",
        " 39, 36, 55, 55, 32,  1, 35, 40, 52, 36, 44, 51, 50, 32,  1, 50, 45, 44,\n",
        " 35, 32,  7,  1,  0,  0, 24, 45, 40,  5,  1, 34, 45, 43, 36,  1, 38, 36,\n",
        " 44, 50, 36,  1, 49, 50, 32, 50, 32,  1, 49, 45, 50, 50, 45,  1, 42, 32,\n",
        " 48, 52, 36,  5,  0, 34, 39, 36,  1, 46, 32, 48, 36,  1, 32, 42, 50, 48,\n",
        " 45,  1, 34, 39, 36,  1, 46, 48, 40, 43, 32,  5,  1, 49, 36,  1, 49, 40,\n",
        "  1, 49, 52, 36, 49, 50, 36,  0, 42, 32,  1, 49, 36, 43, 33, 40, 32, 44,\n",
        " 55, 32], dtype='float32', shape=(1, 200))\n",
        "\n",
        "y = tf.constant([40, 43, 43, 36, 38, 42, 40,  9,  1,  0,  0, 36,  1, 49, 59,  1, 34, 45,\n",
        " 43, 36,  1, 35, 40,  1, 42, 36, 40,  1, 33, 36, 52, 52, 36,  1, 42, 32,\n",
        "  1, 38, 48, 45, 44, 35, 32,  0, 35, 36,  1, 42, 36,  1, 46, 32, 42, 46,\n",
        " 36, 33, 48, 36,  1, 43, 40, 36,  5,  1, 34, 45, 49, 59,  1, 43, 40,  1,\n",
        " 46, 32, 48, 52, 36,  0, 35, 40,  1, 49, 51, 32,  1, 42, 51, 44, 38, 39,\n",
        " 36, 55, 55, 32,  1, 35, 40, 52, 36, 44, 51, 50, 32,  1, 50, 45, 44, 35,\n",
        " 32,  7,  1,  0,  0, 24, 45, 40,  5,  1, 34, 45, 43, 36,  1, 38, 36, 44,\n",
        " 50, 36,  1, 49, 50, 32, 50, 32,  1, 49, 45, 50, 50, 45,  1, 42, 32, 48,\n",
        " 52, 36,  5,  0, 34, 39, 36,  1, 46, 32, 48, 36,  1, 32, 42, 50, 48, 45,\n",
        "  1, 34, 39, 36,  1, 46, 48, 40, 43, 32,  5,  1, 49, 36,  1, 49, 40,  1,\n",
        " 49, 52, 36, 49, 50, 36,  0, 42, 32,  1, 49, 36, 43, 33, 40, 32, 44, 55,\n",
        " 32,  1], dtype='float32', shape=(1, 200))\n",
        "\n",
        "\n",
        "get_custom_loss(x, y)"
      ],
      "execution_count": null,
      "outputs": [
        {
          "output_type": "execute_result",
          "data": {
            "text/plain": [
              "<tf.Tensor: shape=(), dtype=float64, numpy=0.3333333333333333>"
            ]
          },
          "metadata": {
            "tags": []
          },
          "execution_count": 70
        }
      ]
    },
    {
      "cell_type": "code",
      "metadata": {
        "id": "Ts83W6YuXiUS"
      },
      "source": [
        "[[4, 40, 43, 43, 36, 38, 42, 40, 9, 1], \n",
        " [36, 1, 49, 59, 1, 34, 45, 43, 36, 1, 35, 40, 1, 42, 36, 40, 1, 33, 36, 52, 52, 36, 1, 42, 32, 1, 38, 48, 45, 44, 35, 32], \n",
        " [35, 36, 1, 42, 36, 1, 46, 32, 42, 46, 36, 33, 48, 36, 1, 43, 40, 36, 5, 1, 34, 45, 49, 59, 1, 43, 40, 1, 46, 32, 48, 52, 36], \n",
        " [35, 40, 1, 49, 51, 32, 1, 42, 51, 44, 38, 39, 36, 55, 55, 32, 1, 35, 40, 52, 36, 44, 51, 50, 32, 1, 50, 45, 44, 35, 32, 7, 1], \n",
        " [24, 45, 40, 5, 1, 34, 45, 43, 36, 1, 38, 36, 44, 50, 36, 1, 49, 50, 32, 50, 32, 1, 49, 45, 50, 50, 45, 1, 42, 32, 48, 52, 36, 5], \n",
        " [34, 39, 36, 1, 46, 32, 48, 36, 1, 32, 42, 50, 48, 45, 1, 34, 39, 36, 1, 46, 48, 40, 43, 32, 5, 1, 49, 36, 1, 49, 40, 1, 49, 52, 36, 49, 50, 36]]\n"
      ],
      "execution_count": null,
      "outputs": []
    },
    {
      "cell_type": "code",
      "metadata": {
        "id": "qAiT0aGRllzg"
      },
      "source": [
        "idx2char = { v: k for k, v in char2idx.items() }\n",
        "text_generated = \"\"\n",
        "for x in [[4, 40, 43, 43, 36, 38, 42, 40, 9, 1], \n",
        "          [36, 1, 49, 59, 1, 34, 45, 43, 36, 1, 35, 40, 1, 42, 36, 40, 1, 33, 36, 52, 52, 36, 1, 42, 32, 1, 38, 48, 45, 44, 35, 32], \n",
        "          [35, 36, 1, 42, 36, 1, 46, 32, 42, 46, 36, 33, 48, 36, 1, 43, 40, 36, 5, 1, 34, 45, 49, 59, 1, 43, 40, 1, 46, 32, 48, 52, 36], \n",
        "          [35, 40, 1, 49, 51, 32, 1, 42, 51, 44, 38, 39, 36, 55, 55, 32, 1, 35, 40, 52, 36, 44, 51, 50, 32, 1, 50, 45, 44, 35, 32, 7, 1], \n",
        "          [24, 45, 40, 5, 1, 34, 45, 43, 36, 1, 38, 36, 44, 50, 36, 1, 49, 50, 32, 50, 32, 1, 49, 45, 50, 50, 45, 1, 42, 32, 48, 52, 36, 5], \n",
        "          [34, 39, 36, 1, 46, 32, 48, 36, 1, 32, 42, 50, 48, 45, 1, 34, 39, 36, 1, 46, 48, 40, 43, 32, 5, 1, 49, 36, 1, 49, 40, 1, 49, 52, 36, 49, 50, 36]]:\n",
        "  for predicted_id in x:\n",
        "    text_generated += idx2char[predicted_id]\n",
        "  text_generated += '\\n'\n",
        "print(text_generated)"
      ],
      "execution_count": null,
      "outputs": []
    },
    {
      "cell_type": "code",
      "metadata": {
        "id": "oUfoUSUSXjl5"
      },
      "source": [
        "'''\n",
        "EXPERIMENT\n",
        "CUSTOM LOSS\n",
        "'''\n",
        "def divide_versi(y):\n",
        "  doppiozero = False\n",
        "\n",
        "  y_divided = [[]]\n",
        "  for ly in y:\n",
        "    ly = int(ly)\n",
        "\n",
        "    # devo pulire la lista dai segni di punteggiatura, \n",
        "    # in chartoidx significa i numeri da 1 a 10 compresi.\n",
        "    if ly in [1, 2, 3, 4, 5, 6, 7, 8, 9, 10]:  #non posso perchè con i Tensor non funziona\n",
        "    # if ly is 1 or ly is 2 or ly is 3 or ly is 4 or ly is 5 or ly is 6 or ly is 7 \\\n",
        "    #    or ly is 8 or ly is 9 or ly is 10:\n",
        "        continue\n",
        "    else:\n",
        "      # se è zero vuol dire \\n quindi aggiungo una nuova riga\n",
        "      if ly is 0:\n",
        "        if not doppiozero:\n",
        "          y_divided.append([])\n",
        "        doppiozero = True\n",
        "        continue\n",
        "\n",
        "      y_divided[-1].append(ly)\n",
        "      doppiozero = False\n",
        "\n",
        "  if y_divided is not []:\n",
        "    if y[-1] != 0:\n",
        "      # dato che l'ultima riga non finisce con 0 vuol dire che è incompleta e la rimuovo\n",
        "      y_divided.pop()\n",
        "\n",
        "    if len(y_divided[0]) < 4:\n",
        "      # se la prima riga è minore di 4 non posso farci nulla quindi la elimino\n",
        "      y_divided.pop(0)\n",
        "\n",
        "  return y_divided\n",
        "\n",
        "def rhymes_extractor(y_divided):\n",
        "  # estraggo lo schema di rime da y\n",
        "  rhymes = []\n",
        "  for i in range(len(y_divided)):\n",
        "    # con la fine del verso (ultime due lettere) controllo se le altre righe \n",
        "    # finiscono con le stesse lettere\n",
        "    vy = y_divided[i]\n",
        "\n",
        "    last_word_1 = vy[-2:]\n",
        "\n",
        "    # ABA BCB CDC\n",
        "\n",
        "    # devo controllare se la riga i fa rima con la riga i+2 \n",
        "    if i+2 < len(y_divided):\n",
        "      next_vy = y_divided[i+2]\n",
        "      # print(vy[-2:])\n",
        "      # print(next_vy[-2:])\n",
        "      if last_word_1 == next_vy[-2:]:\n",
        "        rhymes.append((i, i+2))\n",
        "    \n",
        "    if i+4 < len(y_divided):\n",
        "      # print(vy[-2:])\n",
        "      # print(next_vy[-2:])\n",
        "      next_vy = y_divided[i+4]\n",
        "      if last_word_1 == next_vy[-2:]:\n",
        "        rhymes.append((i, i+4))\n",
        "\n",
        "  # print(rhymes)\n",
        "  return rhymes\n",
        "\n",
        "\n",
        "def get_custom_loss(x_batch, y_batch):\n",
        "  summed_custom_loss = 0\n",
        "  # x_batch ha lo shape (200, 200) quindi ho 200 vettori con 200 lettere ognuno\n",
        "  # le 200 lettere sono le feature\n",
        "\n",
        "  x_bin_tot = np.ones(1)\n",
        "  y_bin_tot = np.ones(1)\n",
        "\n",
        "  # scorro i 200 vettori\n",
        "  # for (x, y) in zip(x_batch, y_batch):  # Non funziona con i tensori\n",
        "  for v in range(len(x_batch)):\n",
        "    x = x_batch[v]\n",
        "    y = y_batch[v]\n",
        "\n",
        "    # dividio il vettore in versi utili\n",
        "    x_divided = divide_versi(x)\n",
        "    y_divided = divide_versi(y)\n",
        "\n",
        "    # assicuro che il numero di versi siano uguali\n",
        "    # !!! non posso perchè il generato può avere errori e quindi, per esempio,\n",
        "    # avere più o meno versi\n",
        "    # assert len(x_divided) == len(y_divided)\n",
        "\n",
        "    # estraggo lo schema di rime\n",
        "    x_rhymes = rhymes_extractor(x_divided)\n",
        "    y_rhymes = rhymes_extractor(y_divided)\n",
        "\n",
        "    # mi ritorna una lista con il numero delle righe che fanno rima\n",
        "    # Esempio: [(1,3), (2,4)] significa che le righe 1 e 3 fanno rima e che le \n",
        "    # righe 2 e 4 pure \n",
        "    # TODO se avessimo due terzine intere si potrebbe valutare rime a 3 righe [aBaBcB]\n",
        "\n",
        "    if x_rhymes == []:\n",
        "      return 0.9  # max custom loss\n",
        "    \n",
        "    # se lo schema di rime del generato e di dante è uguale stop\n",
        "    if x_rhymes == y_rhymes:\n",
        "      return -0.2\n",
        "\n",
        "    # creo un vettore di 1 per la y perchè le rime ci sono sempre\n",
        "    y_bin = np.ones(len(y_rhymes))\n",
        "    # creo un vettore di 0 per le rime generate, metterò 1 se la rima \n",
        "    # corrispondente è valida (cioè in dante)\n",
        "    x_bin = np.zeros(len(y_rhymes))\n",
        "\n",
        "    # se la rima generata è nelle rime originali di Dante allora la segno come valida\n",
        "    for i in range(len(y_rhymes)):\n",
        "      if y_rhymes[i] in x_rhymes:\n",
        "        x_bin[i] = 1\n",
        "\n",
        "    # concateno i vettori con l'encoding delle rime\n",
        "    x_bin_tot = np.concatenate((x_bin_tot, x_bin))\n",
        "    y_bin_tot = np.concatenate((y_bin_tot, y_bin))\n",
        "\n",
        "  # MSE sui vettori\n",
        "  return tf.keras.losses.mean_squared_error(y_bin_tot, x_bin_tot)\n",
        "\n",
        "# NEW VERSION\n",
        "# creo un vettore con le rime di y reale e di y generato\n",
        "# Ex: in y reale se ho ABABC il vettore è [1,2,1,2,3] con o zero ad indicare nulla\n",
        "# per y generato devo creare un vettore di lunghezza uguale per poi valutarlo con una sparse_crossentropy\n",
        "# problema: non avrà mai le stesse righe\n"
      ],
      "execution_count": 12,
      "outputs": []
    },
    {
      "cell_type": "code",
      "metadata": {
        "id": "qK1OwjD1IDD_",
        "outputId": "239472ce-4f3d-49b8-efb0-519ad084e421",
        "colab": {
          "base_uri": "https://localhost:8080/"
        }
      },
      "source": [
        "'''\n",
        "EXPERIMENT\n",
        "MODEL\n",
        "'''\n",
        "from tensorflow.keras.models import Sequential, Model\n",
        "from tensorflow.keras.layers import Embedding, LSTM, Dense, Dropout, Attention, Flatten, Input\n",
        "from tensorflow.keras.activations import elu, relu, softmax\n",
        "from tensorflow.keras.metrics import categorical_accuracy, sparse_categorical_crossentropy, categorical_crossentropy\n",
        "# Define custom training utilities that are widely used for language modelling\n",
        "\n",
        "n_epochs = 100\n",
        "\n",
        "learning_rate = 0.001  # 0.0001\n",
        "optimizer = tf.keras.optimizers.Adamax(learning_rate=learning_rate)  # Adam\n",
        "\n",
        "def loss(y_true, y_pred):\n",
        "    \"\"\"Calculates categorical crossentropy as loss\"\"\"\n",
        "    return categorical_crossentropy(y_true=y_true, y_pred=y_pred)\n",
        "\n",
        "\n",
        "def perplexity(labels, logits):\n",
        "    \"\"\"Calculates perplexity metric = 2^(entropy) or e^(entropy)\"\"\"\n",
        "    return pow(2, loss(y_true=labels, y_pred=logits))\n",
        "\n",
        "# Input Layer\n",
        "X = Input(shape=(None, ), batch_size=batch_size)  # 100 is the number of features\n",
        "\n",
        "# Word-Embedding Layer\n",
        "embedded = Embedding(vocab_size, embedding_size, \n",
        "                     batch_input_shape=(batch_size, None), \n",
        "                     embeddings_initializer=tf.keras.initializers.GlorotNormal(), \n",
        "                     embeddings_regularizer=tf.keras.regularizers.L1L2()\n",
        "                     )(X)\n",
        "embedded = Dense(embedding_size, relu)(embedded)\n",
        "encoder_output, hidden_state, cell_state = LSTM(units=1024,\n",
        "                                                         return_sequences=True,\n",
        "                                                         return_state=True)(embedded)\n",
        "#attention_input = [encoder_output, hidden_state]\n",
        "encoder_output = Dropout(0.3)(encoder_output)\n",
        "encoder_output = Dense(embedding_size, activation='relu')(encoder_output)\n",
        "\n",
        "#encoder_output = Attention()(attention_input, training=True)\n",
        "\n",
        "initial_state = [hidden_state, cell_state]\n",
        "\n",
        "# initial_state_double = [tf.concat([hidden_state, hidden_state], 1), tf.concat([hidden_state, hidden_state], 1)]\n",
        "encoder_output, hidden_state, cell_state = LSTM(units=1024,\n",
        "                                                         return_sequences=True,\n",
        "                                                         return_state=True)(encoder_output, initial_state=initial_state)\n",
        "encoder_output = Dropout(0.3)(encoder_output)\n",
        "#encoder_output = Flatten()(encoder_output)\n",
        "encoder_output = Dense(hidden_size, activation='relu')(encoder_output)\n",
        "# Prediction Layer\n",
        "Y = Dense(units=vocab_size)(encoder_output)\n",
        "\n",
        "# Compile model\n",
        "model = Model(inputs=X, outputs=Y)\n",
        "model.compile(loss=tf.keras.losses.SparseCategoricalCrossentropy(from_logits = True), optimizer='adam', metrics=[perplexity, sparse_categorical_crossentropy])\n",
        "print(model.summary())\n",
        "\n",
        "# This is an Autograph function\n",
        "# its decorator makes it a TF op - i.e. much faster\n",
        "# @tf.function\n",
        "def train_on_batch(x, y):\n",
        "    with tf.GradientTape() as tape:\n",
        "        current_loss = tf.reduce_mean(\n",
        "            tf.keras.losses.sparse_categorical_crossentropy(\n",
        "                y, model(x), from_logits = True)\n",
        "            + get_custom_loss(x, y)\n",
        "            )\n",
        "    gradients = tape.gradient(current_loss, model.trainable_variables)\n",
        "    optimizer.apply_gradients(zip(gradients, model.trainable_variables))\n",
        "    return current_loss\n",
        "\n",
        "\n",
        "loss_history = []\n",
        "\n",
        "for epoch in range(n_epochs):\n",
        "    start = time.time()\n",
        "    \n",
        "    # Take subsets of train and target\n",
        "    sample = np.random.randint(0, text_matrix.shape[0]-1, subset_size)\n",
        "    sample_train = text_matrix[ sample , : ]\n",
        "    sample_target = text_matrix[ sample+1 , : ]\n",
        "\n",
        "\n",
        "    #sample = list(range(subset_size*epoch, subset_size*(epoch+1)))\n",
        "    #sample_train = text_matrix[ sample , : ]\n",
        "    #next_sample = [x+1 for x in sample]\n",
        "    #sample_target = text_matrix[ next_sample , : ]\n",
        "    \n",
        "    for iteration in range(sample_train.shape[0] // batch_size):\n",
        "        take = iteration * batch_size\n",
        "        x = sample_train[ take:take+batch_size , : ]\n",
        "        y = sample_target[ take:take+batch_size , : ]\n",
        "\n",
        "        current_loss = train_on_batch(x, y)\n",
        "        loss_history.append(current_loss)\n",
        "    \n",
        "    print(\"{}.  \\t  Loss: {}  \\t  Time: {}sec/epoch\".format(\n",
        "        epoch+1, current_loss.numpy(), round(time.time()-start, 2)))\n",
        "    \n",
        "\n",
        "\n"
      ],
      "execution_count": null,
      "outputs": [
        {
          "output_type": "stream",
          "text": [
            "Model: \"functional_1\"\n",
            "__________________________________________________________________________________________________\n",
            "Layer (type)                    Output Shape         Param #     Connected to                     \n",
            "==================================================================================================\n",
            "input_1 (InputLayer)            [(200, None)]        0                                            \n",
            "__________________________________________________________________________________________________\n",
            "embedding (Embedding)           (200, None, 300)     18600       input_1[0][0]                    \n",
            "__________________________________________________________________________________________________\n",
            "dense (Dense)                   (200, None, 300)     90300       embedding[0][0]                  \n",
            "__________________________________________________________________________________________________\n",
            "lstm (LSTM)                     [(200, None, 1024),  5427200     dense[0][0]                      \n",
            "__________________________________________________________________________________________________\n",
            "dropout (Dropout)               (200, None, 1024)    0           lstm[0][0]                       \n",
            "__________________________________________________________________________________________________\n",
            "dense_1 (Dense)                 (200, None, 300)     307500      dropout[0][0]                    \n",
            "__________________________________________________________________________________________________\n",
            "lstm_1 (LSTM)                   [(200, None, 1024),  5427200     dense_1[0][0]                    \n",
            "                                                                 lstm[0][1]                       \n",
            "                                                                 lstm[0][2]                       \n",
            "__________________________________________________________________________________________________\n",
            "dropout_1 (Dropout)             (200, None, 1024)    0           lstm_1[0][0]                     \n",
            "__________________________________________________________________________________________________\n",
            "dense_2 (Dense)                 (200, None, 300)     307500      dropout_1[0][0]                  \n",
            "__________________________________________________________________________________________________\n",
            "dense_3 (Dense)                 (200, None, 62)      18662       dense_2[0][0]                    \n",
            "==================================================================================================\n",
            "Total params: 11,596,962\n",
            "Trainable params: 11,596,962\n",
            "Non-trainable params: 0\n",
            "__________________________________________________________________________________________________\n",
            "None\n",
            "1.  \t  Loss: 3.9447367191314697  \t  Time: 55.17sec/epoch\n",
            "2.  \t  Loss: 3.3421859741210938  \t  Time: 51.01sec/epoch\n",
            "3.  \t  Loss: 2.0192222595214844  \t  Time: 50.99sec/epoch\n",
            "4.  \t  Loss: 2.974409818649292  \t  Time: 50.66sec/epoch\n",
            "5.  \t  Loss: 2.8783011436462402  \t  Time: 51.2sec/epoch\n",
            "6.  \t  Loss: 2.8011863231658936  \t  Time: 50.71sec/epoch\n",
            "7.  \t  Loss: 2.743938684463501  \t  Time: 51.01sec/epoch\n",
            "8.  \t  Loss: 2.667069435119629  \t  Time: 50.82sec/epoch\n",
            "9.  \t  Loss: 1.5121784210205078  \t  Time: 51.15sec/epoch\n",
            "10.  \t  Loss: 1.473652720451355  \t  Time: 50.91sec/epoch\n",
            "11.  \t  Loss: 1.456861972808838  \t  Time: 51.12sec/epoch\n",
            "12.  \t  Loss: 2.513928174972534  \t  Time: 50.95sec/epoch\n",
            "13.  \t  Loss: 2.4664928913116455  \t  Time: 51.03sec/epoch\n",
            "14.  \t  Loss: 2.426332712173462  \t  Time: 51.28sec/epoch\n",
            "15.  \t  Loss: 1.3076951503753662  \t  Time: 51.24sec/epoch\n",
            "16.  \t  Loss: 2.363248586654663  \t  Time: 51.25sec/epoch\n",
            "17.  \t  Loss: 2.3543691635131836  \t  Time: 51.19sec/epoch\n",
            "18.  \t  Loss: 1.240781545639038  \t  Time: 51.08sec/epoch\n",
            "19.  \t  Loss: 2.310396909713745  \t  Time: 51.39sec/epoch\n",
            "20.  \t  Loss: 2.298706293106079  \t  Time: 51.07sec/epoch\n",
            "21.  \t  Loss: 2.2821245193481445  \t  Time: 51.16sec/epoch\n",
            "22.  \t  Loss: 1.1462699174880981  \t  Time: 51.28sec/epoch\n",
            "23.  \t  Loss: 1.1396998167037964  \t  Time: 51.36sec/epoch\n",
            "24.  \t  Loss: 2.2134175300598145  \t  Time: 51.39sec/epoch\n",
            "25.  \t  Loss: 2.194460868835449  \t  Time: 51.23sec/epoch\n",
            "26.  \t  Loss: 2.1835057735443115  \t  Time: 51.42sec/epoch\n",
            "27.  \t  Loss: 2.1390132904052734  \t  Time: 51.05sec/epoch\n",
            "28.  \t  Loss: 2.1355741024017334  \t  Time: 51.16sec/epoch\n",
            "29.  \t  Loss: 2.119426727294922  \t  Time: 51.34sec/epoch\n",
            "30.  \t  Loss: 2.1001124382019043  \t  Time: 51.08sec/epoch\n",
            "31.  \t  Loss: 2.0848777294158936  \t  Time: 51.15sec/epoch\n",
            "32.  \t  Loss: 2.054534673690796  \t  Time: 51.22sec/epoch\n",
            "33.  \t  Loss: 2.036595582962036  \t  Time: 51.2sec/epoch\n",
            "34.  \t  Loss: 2.0119495391845703  \t  Time: 51.32sec/epoch\n",
            "35.  \t  Loss: 0.8845853805541992  \t  Time: 51.27sec/epoch\n",
            "36.  \t  Loss: 0.8480626940727234  \t  Time: 51.33sec/epoch\n",
            "37.  \t  Loss: 0.831162691116333  \t  Time: 51.33sec/epoch\n",
            "38.  \t  Loss: 1.9120423793792725  \t  Time: 51.38sec/epoch\n",
            "39.  \t  Loss: 1.8792515993118286  \t  Time: 51.41sec/epoch\n",
            "40.  \t  Loss: 1.8508925437927246  \t  Time: 51.3sec/epoch\n",
            "41.  \t  Loss: 1.8276234865188599  \t  Time: 51.31sec/epoch\n",
            "42.  \t  Loss: 0.705528974533081  \t  Time: 51.53sec/epoch\n",
            "43.  \t  Loss: 1.7755826711654663  \t  Time: 51.33sec/epoch\n",
            "44.  \t  Loss: 1.7214890718460083  \t  Time: 51.32sec/epoch\n",
            "45.  \t  Loss: 0.6245737075805664  \t  Time: 51.21sec/epoch\n",
            "46.  \t  Loss: 0.5961335897445679  \t  Time: 51.29sec/epoch\n",
            "47.  \t  Loss: 0.5435375571250916  \t  Time: 51.47sec/epoch\n",
            "48.  \t  Loss: 1.618256688117981  \t  Time: 51.33sec/epoch\n",
            "49.  \t  Loss: 1.578506588935852  \t  Time: 51.23sec/epoch\n",
            "50.  \t  Loss: 0.45516395568847656  \t  Time: 51.28sec/epoch\n",
            "51.  \t  Loss: 1.5247575044631958  \t  Time: 51.38sec/epoch\n",
            "52.  \t  Loss: 0.386947900056839  \t  Time: 51.43sec/epoch\n",
            "53.  \t  Loss: 0.36517125368118286  \t  Time: 51.49sec/epoch\n",
            "54.  \t  Loss: 0.33122023940086365  \t  Time: 51.49sec/epoch\n",
            "55.  \t  Loss: 0.29820331931114197  \t  Time: 51.49sec/epoch\n",
            "56.  \t  Loss: 0.2873058617115021  \t  Time: 51.32sec/epoch\n",
            "57.  \t  Loss: 0.24387100338935852  \t  Time: 51.44sec/epoch\n",
            "58.  \t  Loss: 1.3210498094558716  \t  Time: 51.5sec/epoch\n",
            "59.  \t  Loss: 0.18523308634757996  \t  Time: 51.42sec/epoch\n",
            "60.  \t  Loss: 1.279537320137024  \t  Time: 51.41sec/epoch\n",
            "61.  \t  Loss: 0.13488447666168213  \t  Time: 51.47sec/epoch\n",
            "62.  \t  Loss: 1.211016297340393  \t  Time: 51.16sec/epoch\n",
            "63.  \t  Loss: 1.2023873329162598  \t  Time: 51.25sec/epoch\n",
            "64.  \t  Loss: 0.09580600261688232  \t  Time: 51.43sec/epoch\n",
            "65.  \t  Loss: 0.07062849402427673  \t  Time: 51.49sec/epoch\n",
            "66.  \t  Loss: 0.06290614604949951  \t  Time: 51.56sec/epoch\n",
            "67.  \t  Loss: 0.031050702556967735  \t  Time: 51.55sec/epoch\n",
            "68.  \t  Loss: 1.1129487752914429  \t  Time: 51.51sec/epoch\n"
          ],
          "name": "stdout"
        }
      ]
    },
    {
      "cell_type": "code",
      "metadata": {
        "id": "DWovlkWZ_28a"
      },
      "source": [
        "model.save(\"model_custom_loss_00.h5\")"
      ],
      "execution_count": null,
      "outputs": []
    },
    {
      "cell_type": "code",
      "metadata": {
        "id": "ePKmBnJY1kI9"
      },
      "source": [
        "'''\n",
        "EXPERIMENT\n",
        "GENERATOR\n",
        "'''\n",
        "\n",
        "# Input Layer\n",
        "X = Input(shape=(None, ), batch_size=1)  # 100 is the number of features\n",
        "\n",
        "# Word-Embedding Layer\n",
        "embedded = Embedding(vocab_size, embedding_size)(X)\n",
        "embedded = Dense(embedding_size, relu)(embedded)\n",
        "encoder_output, hidden_state, cell_state = LSTM(units=1024,\n",
        "                                                         return_sequences=True,\n",
        "                                                         return_state=True,\n",
        "                                              stateful=True)(embedded)\n",
        "#attention_input = [encoder_output, hidden_state]\n",
        "\n",
        "encoder_output = Dropout(0.3)(encoder_output)\n",
        "\n",
        "encoder_output = Dense(embedding_size, activation='relu')(encoder_output)\n",
        "\n",
        "# encoder_output = Attention()(attention_input, training=True)\n",
        "initial_state = [hidden_state,  cell_state]\n",
        "\n",
        "# initial_state_double = [tf.concat([hidden_state, hidden_state], 1), tf.concat([hidden_state, hidden_state], 1)]\n",
        "encoder_output, hidden_state, cell_state = LSTM(units=1024,\n",
        "                                                         return_sequences=True,\n",
        "                                                         return_state=True,\n",
        "                                                stateful=True)(encoder_output, initial_state=initial_state)\n",
        "#encoder_output = Flatten()(encoder_output)\n",
        "encoder_output = Dropout(0.3)(encoder_output)\n",
        "encoder_output = Dense(hidden_size, activation='relu')(encoder_output)\n",
        "# Prediction Layer\n",
        "Y = Dense(units=vocab_size)(encoder_output)\n",
        "\n",
        "# Compile model\n",
        "generator = Model(inputs=X, outputs=Y)\n",
        "generator.compile(loss=tf.keras.losses.SparseCategoricalCrossentropy(from_logits = True), optimizer='adam', metrics=[perplexity, sparse_categorical_crossentropy])\n",
        "print(model.summary())\n",
        "\n",
        "\n",
        "# Import trained weights from model to generator\n",
        "generator.set_weights(model.get_weights())\n",
        "\n",
        "def generate_text(start_string, num_generate = 1000, temperature = 1.0):\n",
        "    \n",
        "    # Vectorize input string\n",
        "    input_eval = [char2idx[s] for s in start_string]  \n",
        "    input_eval = tf.expand_dims(input_eval, 0)\n",
        "    \n",
        "    text_generated = [] # List to append predicted chars \n",
        "    \n",
        "    idx2char = { v: k for k, v in char2idx.items() }  # invert char-index mapping\n",
        "    \n",
        "    generator.reset_states()\n",
        "    \n",
        "    for i in range(num_generate):\n",
        "        predictions = generator(input_eval)\n",
        "        predictions = tf.squeeze(predictions, 0)\n",
        "        \n",
        "        # sample next char based on distribution and temperature\n",
        "        predictions = predictions / temperature\n",
        "        predicted_id = tf.random.categorical(predictions, num_samples=1)[-1,0].numpy()\n",
        "        \n",
        "        input_eval = tf.expand_dims([predicted_id], 0)\n",
        "\n",
        "        text_generated.append(idx2char[predicted_id])\n",
        "        \n",
        "    return (start_string + ''.join(text_generated))\n",
        "\n",
        "\n",
        "# Let's feed the first lines:\n",
        "start_string = \"\"\"\n",
        "Nel mezzo del cammin di nostra vita\n",
        "mi ritrovai per una selva oscura,\n",
        "chè la diritta via era smarrita.\n",
        "\n",
        "\"\"\"\n",
        "\n",
        "for t in [0.1, 0.5, 1.0, 1.5, 2]:\n",
        "    print(\"####### TEXT GENERATION - temperature = {}\\n\".format(t))\n",
        "    print(generate_text(start_string = start_string, num_generate = 1000, temperature = t))\n",
        "    print(\"\\n\\n\\n\")"
      ],
      "execution_count": null,
      "outputs": []
    },
    {
      "cell_type": "code",
      "metadata": {
        "id": "mKysyBfpAtUS",
        "outputId": "a63f0adf-ecce-4cc6-bffa-48b26464d102",
        "colab": {
          "base_uri": "https://localhost:8080/"
        }
      },
      "source": [
        "RNN = Sequential([\n",
        "    Embedding(vocab_size, embedding_size,\n",
        "              batch_input_shape=(batch_size, None)),\n",
        "    Dense(embedding_size, activation = relu),\n",
        "    \n",
        "    LSTM(len_input, return_sequences = True),\n",
        "\n",
        "    Dropout(0.33),\n",
        "    \n",
        "    Dense(hidden_size, activation = relu), \n",
        "\n",
        "    Dropout(0.33),\n",
        "\n",
        "    LSTM(len_input, return_sequences = True),\n",
        "    \n",
        "    Dense(vocab_size)\n",
        "])\n",
        "\n",
        "RNN.summary()"
      ],
      "execution_count": null,
      "outputs": [
        {
          "output_type": "stream",
          "text": [
            "Model: \"sequential\"\n",
            "_________________________________________________________________\n",
            "Layer (type)                 Output Shape              Param #   \n",
            "=================================================================\n",
            "embedding (Embedding)        (200, None, 300)          18600     \n",
            "_________________________________________________________________\n",
            "dense (Dense)                (200, None, 300)          90300     \n",
            "_________________________________________________________________\n",
            "lstm (LSTM)                  (200, None, 2048)         19243008  \n",
            "_________________________________________________________________\n",
            "dropout (Dropout)            (200, None, 2048)         0         \n",
            "_________________________________________________________________\n",
            "dense_1 (Dense)              (200, None, 300)          614700    \n",
            "_________________________________________________________________\n",
            "dropout_1 (Dropout)          (200, None, 300)          0         \n",
            "_________________________________________________________________\n",
            "lstm_1 (LSTM)                (200, None, 2048)         19243008  \n",
            "_________________________________________________________________\n",
            "dense_2 (Dense)              (200, None, 62)           127038    \n",
            "=================================================================\n",
            "Total params: 39,336,654\n",
            "Trainable params: 39,336,654\n",
            "Non-trainable params: 0\n",
            "_________________________________________________________________\n"
          ],
          "name": "stdout"
        }
      ]
    },
    {
      "cell_type": "code",
      "metadata": {
        "id": "a9Tldq4qAtXr"
      },
      "source": [
        "n_epochs = 150\n",
        "\n",
        "learning_rate = 0.001  # 0.0001\n",
        "optimizer = tf.keras.optimizers.Adamax(learning_rate = learning_rate)  # Adam"
      ],
      "execution_count": null,
      "outputs": []
    },
    {
      "cell_type": "code",
      "metadata": {
        "id": "XUgGeC5ZAtbb"
      },
      "source": [
        "# This is an Autograph function\n",
        "# its decorator makes it a TF op - i.e. much faster\n",
        "# @tf.function\n",
        "def train_on_batch(x, y):\n",
        "    with  tf.GradientTape() as tape:\n",
        "        # TODO: implementare la custom loss prendendo le rime da Y \n",
        "        # e controllando che schema di rime c'è\n",
        "        # Avendo lo schema di rime controllare la X e dare un voto sugli ultimi\n",
        "        # 3 caratteri. Dando un punteggio coerente con il numero di lettere \n",
        "        # che fanno rima, valutare un punteggio negativo\n",
        "\n",
        "        current_loss = tf.reduce_mean(\n",
        "            tf.keras.losses.sparse_categorical_crossentropy(\n",
        "                y, RNN(x), from_logits = True) \n",
        "            + get_custom_loss(x, y))\n",
        "    gradients = tape.gradient(current_loss, RNN.trainable_variables)\n",
        "    optimizer.apply_gradients(zip(gradients, RNN.trainable_variables))\n",
        "    return current_loss"
      ],
      "execution_count": null,
      "outputs": []
    },
    {
      "cell_type": "code",
      "metadata": {
        "id": "8-x5RxKrAtnR",
        "outputId": "8fd3f325-0573-4693-fc7b-f4526f9fdf53",
        "colab": {
          "base_uri": "https://localhost:8080/"
        }
      },
      "source": [
        "loss_history = []\n",
        "\n",
        "for epoch in range(n_epochs):\n",
        "    start = time.time()\n",
        "    \n",
        "    # Take subsets of train and target\n",
        "    sample = np.random.randint(0, text_matrix.shape[0]-1, subset_size)\n",
        "    sample_train = text_matrix[ sample , : ]\n",
        "    sample_target = text_matrix[ sample+1 , : ]\n",
        "\n",
        "    # NEW SEQUENTIAL MODE\n",
        "    # sample = list(range(subset_size*epoch, subset_size*(epoch+1)))\n",
        "    # sample_train = text_matrix[ sample , : ]\n",
        "    # next_sample = [x+1 for x in sample]\n",
        "    # sample_target = text_matrix[ next_sample , : ]\n",
        "    \n",
        "    for iteration in range(sample_train.shape[0] // batch_size):\n",
        "        take = iteration * batch_size\n",
        "        x = sample_train[ take:take+batch_size , : ]\n",
        "        y = sample_target[ take:take+batch_size , : ]\n",
        "\n",
        "        current_loss = train_on_batch(x, y)\n",
        "        loss_history.append(current_loss)\n",
        "    \n",
        "    print(\"{}.  \\t  Loss: {}  \\t  Time: {}ss\".format(\n",
        "        epoch+1, current_loss.numpy(), round(time.time()-start, 2)))"
      ],
      "execution_count": null,
      "outputs": [
        {
          "output_type": "stream",
          "text": [
            "1.  \t  Loss: 2.456529378890991  \t  Time: 367.43ss\n",
            "2.  \t  Loss: 2.0141706466674805  \t  Time: 373.03ss\n",
            "3.  \t  Loss: 1.8379888534545898  \t  Time: 374.37ss\n",
            "4.  \t  Loss: 1.7415854930877686  \t  Time: 372.65ss\n",
            "5.  \t  Loss: 1.6536414623260498  \t  Time: 369.8ss\n",
            "6.  \t  Loss: 1.5538181066513062  \t  Time: 373.9ss\n",
            "7.  \t  Loss: 1.4830265045166016  \t  Time: 371.92ss\n",
            "8.  \t  Loss: 1.4170233011245728  \t  Time: 370.39ss\n",
            "9.  \t  Loss: 1.3489421606063843  \t  Time: 372.4ss\n",
            "10.  \t  Loss: 1.2993950843811035  \t  Time: 372.0ss\n",
            "11.  \t  Loss: 1.2515488862991333  \t  Time: 373.58ss\n",
            "12.  \t  Loss: 1.1995846033096313  \t  Time: 370.65ss\n",
            "13.  \t  Loss: 1.1460455656051636  \t  Time: 372.25ss\n",
            "14.  \t  Loss: 1.0806668996810913  \t  Time: 373.65ss\n",
            "15.  \t  Loss: 1.0468740463256836  \t  Time: 370.84ss\n",
            "16.  \t  Loss: 0.9778279066085815  \t  Time: 370.92ss\n",
            "17.  \t  Loss: 0.9033732414245605  \t  Time: 370.41ss\n",
            "18.  \t  Loss: 0.8289470672607422  \t  Time: 374.46ss\n",
            "19.  \t  Loss: 0.7542098164558411  \t  Time: 373.84ss\n",
            "20.  \t  Loss: 0.6742076873779297  \t  Time: 372.9ss\n",
            "21.  \t  Loss: 0.5936614274978638  \t  Time: 371.18ss\n",
            "22.  \t  Loss: 0.5270772576332092  \t  Time: 372.36ss\n",
            "23.  \t  Loss: 0.4458158314228058  \t  Time: 375.6ss\n",
            "24.  \t  Loss: 0.3744804561138153  \t  Time: 373.66ss\n",
            "25.  \t  Loss: 0.3032533824443817  \t  Time: 373.49ss\n",
            "26.  \t  Loss: 0.2309603989124298  \t  Time: 386.5ss\n",
            "27.  \t  Loss: 0.18536359071731567  \t  Time: 384.23ss\n",
            "28.  \t  Loss: 0.12371479719877243  \t  Time: 381.79ss\n",
            "29.  \t  Loss: 0.09481289237737656  \t  Time: 381.24ss\n",
            "30.  \t  Loss: 0.045314621180295944  \t  Time: 387.15ss\n",
            "31.  \t  Loss: 0.03863571956753731  \t  Time: 387.05ss\n",
            "32.  \t  Loss: 0.013737558387219906  \t  Time: 386.93ss\n",
            "33.  \t  Loss: -0.005754245910793543  \t  Time: 386.22ss\n",
            "34.  \t  Loss: -0.016833312809467316  \t  Time: 387.19ss\n",
            "35.  \t  Loss: -0.01803918182849884  \t  Time: 386.67ss\n",
            "36.  \t  Loss: -0.027840616181492805  \t  Time: 387.0ss\n",
            "37.  \t  Loss: -0.030583743005990982  \t  Time: 386.51ss\n",
            "38.  \t  Loss: -0.034683119505643845  \t  Time: 387.53ss\n",
            "39.  \t  Loss: -0.043468672782182693  \t  Time: 386.7ss\n",
            "40.  \t  Loss: -0.03823100030422211  \t  Time: 387.36ss\n",
            "41.  \t  Loss: -0.04863111674785614  \t  Time: 386.72ss\n",
            "42.  \t  Loss: -0.055294837802648544  \t  Time: 386.49ss\n",
            "43.  \t  Loss: -0.05957400053739548  \t  Time: 386.81ss\n",
            "44.  \t  Loss: -0.06079094111919403  \t  Time: 386.59ss\n",
            "45.  \t  Loss: -0.06154074892401695  \t  Time: 387.01ss\n",
            "46.  \t  Loss: -0.0621042475104332  \t  Time: 387.03ss\n",
            "47.  \t  Loss: -0.06280390918254852  \t  Time: 386.8ss\n",
            "48.  \t  Loss: -0.0685223788022995  \t  Time: 386.93ss\n",
            "49.  \t  Loss: -0.07553330063819885  \t  Time: 386.88ss\n",
            "50.  \t  Loss: -0.07092070579528809  \t  Time: 387.1ss\n",
            "51.  \t  Loss: -0.07910355180501938  \t  Time: 386.69ss\n",
            "52.  \t  Loss: -0.07702305912971497  \t  Time: 386.55ss\n",
            "53.  \t  Loss: -0.07849957048892975  \t  Time: 387.07ss\n",
            "54.  \t  Loss: -0.08160415291786194  \t  Time: 387.1ss\n",
            "55.  \t  Loss: -0.07275547832250595  \t  Time: 386.8ss\n",
            "56.  \t  Loss: -0.0864114835858345  \t  Time: 387.58ss\n",
            "57.  \t  Loss: -0.08646096289157867  \t  Time: 386.71ss\n",
            "58.  \t  Loss: -0.0921197161078453  \t  Time: 386.72ss\n",
            "59.  \t  Loss: -0.08721865713596344  \t  Time: 387.58ss\n",
            "60.  \t  Loss: -0.08962301164865494  \t  Time: 386.67ss\n",
            "61.  \t  Loss: -0.09289466589689255  \t  Time: 387.04ss\n",
            "62.  \t  Loss: -0.09080753475427628  \t  Time: 386.65ss\n"
          ],
          "name": "stdout"
        }
      ]
    },
    {
      "cell_type": "code",
      "metadata": {
        "id": "R6uAhmV2Atth"
      },
      "source": [
        "plt.plot(loss_history)\n",
        "plt.title(\"Training Loss\")\n",
        "plt.show()"
      ],
      "execution_count": null,
      "outputs": []
    },
    {
      "cell_type": "code",
      "metadata": {
        "id": "FCsDapUTBBrE"
      },
      "source": [
        "RNN.save( \"text_generator_RNN_03.h5\")"
      ],
      "execution_count": null,
      "outputs": []
    },
    {
      "cell_type": "markdown",
      "metadata": {
        "id": "yrMdonRckAWB"
      },
      "source": [
        "# Text Generation\n",
        "\n",
        "At this point, let's check how the model generates text. In order to do it, I must make some changes to my RNN architecture above.\n",
        "\n",
        "First, I must change the fixed batch size. After training, I want to feed just one sentence into my Network to make it continue the character sequence. I will feed a string into the model, make it predict the next character, update the input sequence, and repeat the process until a long generated text is obtained. Because of this, the succession of input sequences is now different from training session, in which portions of text were sampled randomly. I now have to set `stateufl = True` in the `LSTM()` layer, so that each LSTM cell will keep in memory the internal state from the previous sequence. With this I hope the model will better remember sequential information while generating text.\n",
        "\n",
        "I will instantiate a new `generator` RNN with these new features, and transfer the trained weights of my `RNN` into it."
      ]
    },
    {
      "cell_type": "code",
      "metadata": {
        "id": "69aV7FGVAtxY",
        "outputId": "a7659852-e5a5-4d12-f9cc-dbaa71a17060",
        "colab": {
          "base_uri": "https://localhost:8080/",
          "height": 425
        }
      },
      "source": [
        "generator = Sequential([\n",
        "   Embedding(vocab_size, embedding_size,\n",
        "              batch_input_shape=(1, None)),\n",
        "    Dense(embedding_size, activation = relu),\n",
        "    \n",
        "    LSTM(len_input, return_sequences = True, stateful=1),\n",
        "\n",
        "    Dropout(0.3),\n",
        "    \n",
        "    Dense(hidden_size, activation = relu), \n",
        "\n",
        "    Dropout(0.3),\n",
        "\n",
        "    LSTM(len_input, return_sequences = True, stateful=1),\n",
        "    \n",
        "    Dense(vocab_size)\n",
        "])\n",
        "\n",
        "generator.summary()"
      ],
      "execution_count": null,
      "outputs": [
        {
          "output_type": "stream",
          "text": [
            "Model: \"sequential_3\"\n",
            "_________________________________________________________________\n",
            "Layer (type)                 Output Shape              Param #   \n",
            "=================================================================\n",
            "embedding_3 (Embedding)      (1, None, 300)            18600     \n",
            "_________________________________________________________________\n",
            "dense_9 (Dense)              (1, None, 300)            90300     \n",
            "_________________________________________________________________\n",
            "lstm_6 (LSTM)                (1, None, 1024)           5427200   \n",
            "_________________________________________________________________\n",
            "dropout_6 (Dropout)          (1, None, 1024)           0         \n",
            "_________________________________________________________________\n",
            "dense_10 (Dense)             (1, None, 300)            307500    \n",
            "_________________________________________________________________\n",
            "dropout_7 (Dropout)          (1, None, 300)            0         \n",
            "_________________________________________________________________\n",
            "lstm_7 (LSTM)                (1, None, 1024)           5427200   \n",
            "_________________________________________________________________\n",
            "dense_11 (Dense)             (1, None, 62)             63550     \n",
            "=================================================================\n",
            "Total params: 11,334,350\n",
            "Trainable params: 11,334,350\n",
            "Non-trainable params: 0\n",
            "_________________________________________________________________\n"
          ],
          "name": "stdout"
        }
      ]
    },
    {
      "cell_type": "code",
      "metadata": {
        "id": "whB1azhVAtrp"
      },
      "source": [
        "# Import trained weights from RNN to generator\n",
        "generator.set_weights(RNN.get_weights())"
      ],
      "execution_count": null,
      "outputs": []
    },
    {
      "cell_type": "code",
      "metadata": {
        "id": "vE2hYSqAAtkn"
      },
      "source": [
        "def generate_text(start_string, num_generate = 1000, temperature = 1.0):\n",
        "    \n",
        "    # Vectorize input string\n",
        "    input_eval = [char2idx[s] for s in start_string]  \n",
        "    input_eval = tf.expand_dims(input_eval, 0)\n",
        "    \n",
        "    text_generated = [] # List to append predicted chars \n",
        "    \n",
        "    idx2char = { v: k for k, v in char2idx.items() }  # invert char-index mapping\n",
        "    \n",
        "    generator.reset_states()\n",
        "    \n",
        "    for i in range(num_generate):\n",
        "        predictions = generator(input_eval)\n",
        "        predictions = tf.squeeze(predictions, 0)\n",
        "        \n",
        "        # sample next char based on distribution and temperature\n",
        "        predictions = predictions / temperature\n",
        "        predicted_id = tf.random.categorical(predictions, num_samples=1)[-1,0].numpy()\n",
        "        \n",
        "        input_eval = tf.expand_dims([predicted_id], 0)\n",
        "\n",
        "        text_generated.append(idx2char[predicted_id])\n",
        "        \n",
        "    return (start_string + ''.join(text_generated))\n"
      ],
      "execution_count": null,
      "outputs": []
    },
    {
      "cell_type": "markdown",
      "metadata": {
        "id": "2hBCF5YrqBtG"
      },
      "source": [
        "(This function is based on [this tutorial](https://www.tensorflow.org/tutorials/text/text_generation).)"
      ]
    },
    {
      "cell_type": "code",
      "metadata": {
        "id": "4_NWeo1fAtiC",
        "outputId": "a5a4a6e9-1b00-489e-eb3b-db23872d16d4",
        "colab": {
          "base_uri": "https://localhost:8080/",
          "height": 1000
        }
      },
      "source": [
        "# Let's feed the first lines:\n",
        "start_string = \"\"\"\n",
        "Nel mezzo del cammin di nostra vita\n",
        "mi ritrovai per una selva oscura,\n",
        "chè la diritta via era smarrita.\n",
        "\n",
        "\"\"\"\n",
        "\n",
        "for t in [0.1, 0.5, 1.0, 1.5, 2]:\n",
        "    print(\"####### TEXT GENERATION - temperature = {}\\n\".format(t))\n",
        "    print(generate_text(start_string = start_string, num_generate = 1000, temperature = 1.0))\n",
        "    print(\"\\n\\n\\n\")"
      ],
      "execution_count": null,
      "outputs": [
        {
          "output_type": "stream",
          "text": [
            "####### TEXT GENERATION - temperature = 0.1\n",
            "\n",
            "\n",
            "Nel mezzo del cammin di nostra vita\n",
            "mi ritrovai per una selva oscura,\n",
            "chè la diritta via era smarrita.\n",
            "\n",
            "\n",
            "\n",
            "Ora questo che tenna con esso pianta,\n",
            "fonno de li altri rispiose poscegno,\n",
            "che idronemo e menera a fruttorna\n",
            "nei perchè tanta inverno, tutte 'l puoi\".\n",
            "\n",
            "\n",
            "\n",
            "in vendi ' pietra il tanto parte era,\n",
            "primandono entro, evei nè me si stesse\n",
            "buono alqual ch'ogne non aperto leto\n",
            "ch'el tanto inghiecco quell'ca divina. \n",
            "\n",
            "Quasi alloral lorar com'io duca;\n",
            "e riguarrille, duo per malco a brace\n",
            "me che già veglia, quanto purto colpa\n",
            "fora d'un che, profodo scallegio\n",
            "ch'io disse: \"E questo fiate menore. \n",
            "\n",
            "Centor Berve fui che tant' io luoto:\n",
            "chè, quando le cagion che s'accriga una;\n",
            "la cima prei del vide, ed esse, anda\n",
            "sodra, andarata drite, e il trascosto,\n",
            "il parlarento e 'l pèotò come avveggia,\n",
            "tal che d'angella sua leggia condetta,\n",
            "sopr'alla voi di mezzo solo è benno. \n",
            "\n",
            "Io mi fua lantia, inverabon pria 'ntrima\n",
            "di ruoi senti\n",
            "la vente mio menando me ormi?\",\n",
            "donne di Romagni, disso d'io mi,\n",
            "non tu maria, sì come in altro samme.\n",
            "\n",
            "\n",
            "\n",
            "Sovr'elli a altro con lor de la Dena arco,\n",
            "sanza 'l mondo: \"Te del vazion mi\n",
            "\n",
            "\n",
            "\n",
            "\n",
            "####### TEXT GENERATION - temperature = 0.5\n",
            "\n",
            "\n",
            "Nel mezzo del cammin di nostra vita\n",
            "mi ritrovai per una selva oscura,\n",
            "chè la diritta via era smarrita.\n",
            "\n",
            "\n",
            "\n",
            "Di ebbe di sè, ond'ei, a me secorci,\n",
            "vanno tanto fu giù o con s'imparto,\n",
            "come volonci loro salir porta. \n",
            "\n",
            "Quidi mai se ne cosa un socondo\n",
            "al letizion come frutro ha temo\n",
            "futa! m'asplendo del grande quitiega\n",
            "tanto ne le ciglia nel vepo s'avvanta, \n",
            "\n",
            "di nostro ascoppiavar per lo Carcolsi. \n",
            "\n",
            "Sì, stalinte, orai: 'D accoltati pruncia\n",
            "ch'ai per son medo in tanto, dolce, e stani\n",
            "con la terra era d'il facer l'altra grudla;\n",
            "ma tenea id essa, lungua c'egno a lume\n",
            "del maggio de le morti e mal par notto,\n",
            "perchè di fermal sotto d'acunto Mero; \n",
            "\n",
            "e in ciascungando, a guorda intero,\n",
            "più che raccopar vegge e veniresse\n",
            "li colonte: \"Deguatili altriti quanti\n",
            "vorte, perchè il son, ch'a' non vi voi nice. \n",
            "\n",
            "Ond'ei la Sùcci a donna mia costuida\n",
            "percha quel nostro casper nalevata\n",
            "infini a penedèo di nostra verta,\n",
            "forta fare in tanto ch'i' poè erano\n",
            "si proversi per attizioni domoni;\n",
            "e sè non sogvaca mano e per la motta. \n",
            "\n",
            "Boragavammo e del maglio ch'io sani\n",
            "feggiro di luci, e 'oa dempre a me, asco'\n",
            "vedregna vo\n",
            "\n",
            "\n",
            "\n",
            "\n",
            "####### TEXT GENERATION - temperature = 1.0\n",
            "\n",
            "\n",
            "Nel mezzo del cammin di nostra vita\n",
            "mi ritrovai per una selva oscura,\n",
            "chè la diritta via era smarrita.\n",
            "\n",
            "\n",
            "\n",
            "I' son durin Migliei e canterai tuggi\n",
            "un come store in te che tu dicendava\n",
            "tre non conforto che 'l batto I' su' Fivelle\n",
            "\n",
            "da tal del mio de da Carinati umica,\n",
            "quando abbrocito de l'accelsere,\n",
            "confanonel tempre che pranti il bello\n",
            "che mi facea la trezze poi mi spirgo\n",
            "intratar sì, di quaste era la scira,\n",
            "che la, dove' ole carifi pennardi\n",
            "a l'altrer di li ammapiò che laccia; \n",
            "\n",
            "per che 'l monne in persona tira a seli\n",
            "li occhiaturi, se non mai meriguera,\n",
            "e facce fosse, li occhi non la mistela\n",
            "fè, per contretto come 'l mio disir Morti,\n",
            "per questa lume che non ere congagna. \n",
            "\n",
            "Na parer giù di lubine grazia\n",
            "ogni la siauperacca la qui gintora;\n",
            "chè pè non m'amari si frusia distra\n",
            "ond' era battiai del faggine e loco\n",
            "sol miscorte a me ò a le sensunaglie\n",
            "de l'esser di Donderno passi Duone. \n",
            "\n",
            "Così andando, e anchunata bena;\n",
            "ond' elli a Dispondio era d'altro era,\n",
            "però s'amposo mov'io bello molto\n",
            "avere: \"Ragione, dicean sovra imelazzo. \n",
            "\n",
            "Giusavanlo a li lui, che s'adea ciaca\n",
            "che fuor di Nrigi stagi; e\n",
            "\n",
            "\n",
            "\n",
            "\n",
            "####### TEXT GENERATION - temperature = 1.5\n",
            "\n",
            "\n",
            "Nel mezzo del cammin di nostra vita\n",
            "mi ritrovai per una selva oscura,\n",
            "chè la diritta via era smarrita.\n",
            "\n",
            "Mostra che la vista mia mai truttuto\n",
            "ovea tutto somenta che calce\n",
            "non è come va cle da ciEsto spallo. \n",
            "\n",
            "Frensi molte sterò, e se tii, pria guardo?\".\n",
            "\n",
            "Niondo ch'io ti disse: \"Già nel mio scliuna\n",
            "quante rispare a mira, per lo callo\n",
            "del marcoso e lomoro e rappio dolo\n",
            "di Sania, quando reminando sprava,\n",
            "foziando oltre altre 'mbe, e pur che vanti\n",
            "luce l'uno i tanto oi qui tutt' inziade; \n",
            "\n",
            "però ch'altra 'l bolo incura intueme in giusto?\n",
            "per che 'l temesta la costa voluta\n",
            "quanto avea\n",
            "di tre di noi padre più segno; \n",
            "\n",
            "e figura e d'interno; e questi palmo,\n",
            "ne li occhi ingiuro e suobissivo laglo\n",
            "de l'uome infesse e con questo forsuni\n",
            "mosse curato santa che chi soglio,\n",
            "come tu' sondi ora sì di lei tronco:\n",
            "\"Se n'è coglia di là Pibar sì sùgni: \n",
            "\n",
            "Che men ch'io non ch'a non mosser sottimi segni\n",
            "l'una figliarì benchè a l'altro era pronte\n",
            "che la passor tivilla questè saliggia\n",
            "di noi ch'ora sotto l'uni a tu' Farmagna;\n",
            "persa: \"\n",
            "chi ten, fiena alte sperante canto\n",
            "sienzo a la soli n'è, per grazia spiore\n",
            "ad u\n",
            "\n",
            "\n",
            "\n",
            "\n",
            "####### TEXT GENERATION - temperature = 2\n",
            "\n",
            "\n",
            "Nel mezzo del cammin di nostra vita\n",
            "mi ritrovai per una selva oscura,\n",
            "chè la diritta via era smarrita.\n",
            "\n",
            "\n",
            "\n",
            "Indi turbesi genti del mado spregna,\n",
            "e 'l solpo frendo: \"Se non cenì guida,\n",
            "mader volti e di fiero a li portivi\n",
            "onde parte dal ferto suo nonnello\". \n",
            "\n",
            "Ed elli a padre un Boco in sopra sue\n",
            "capel pettalso nè lo luce si porta,\n",
            "e, disse l'altro magnor vivoneste\n",
            "leggrempi in al testaer, per ferma l'an. \n",
            "\n",
            "Sì come colfurmi far la gran sole\n",
            "quello sormor mio, ch'i' peate intaro\n",
            "quando di Siguar, ch'a è di tutti passi,\n",
            "secondo me che occhi ogne sua propria,\n",
            "va si stucca. \n",
            "Poi i genti uncir de la, taldo famme\n",
            "di qui navvelletta, e puòse a li orsigni\n",
            "votan sanzi a noi: esser si var come, \n",
            "\n",
            "cui mi feate che 'ntichi paria quivi\n",
            "lui che voludi' la mostra, fosserco\n",
            "a matitai; e cominciò a Dio cose,\n",
            "sì com'era parer sperchè l'amorello. \n",
            "\n",
            "Innanziammo a lo intorno marcallo\n",
            "che conquintare li occhi in sì pur aita,\n",
            "velidente fa due Crederesta\n",
            "quel che gira ceduto lo fampuotante\n",
            "me a le Zeginte che lacea la stella, \n",
            "\n",
            "quell'i' penti, \"Dirgendui lui la calla\n",
            "de le vise a le terre degno pare\n",
            "di tutto innanzi\n",
            "\n",
            "\n",
            "\n",
            "\n"
          ],
          "name": "stdout"
        }
      ]
    },
    {
      "cell_type": "markdown",
      "metadata": {
        "id": "K8KlRGTqmGBS"
      },
      "source": [
        "The best generation is, IMHO, the one with `temperature = 1.5`. The sentences of course do not make sense, but it's amazing that such a simple model could achieve similar results, and generate absolutely Dante-esque text with just ~40 minutes of GPU training."
      ]
    },
    {
      "cell_type": "markdown",
      "metadata": {
        "id": "ZtB2gvhimUEs"
      },
      "source": [
        "Many things could be done at this point:\n",
        "\n",
        "\n",
        "\n",
        "*   Try fancier architectures, such as seq2seq. (I must say though that stacked RNNs didn't provide better results during prototyping.)\n",
        "*   Try Attention models.\n",
        "*   Longer training.\n",
        "*   Adversarial training.\n",
        "\n",
        "I'll try a lot of these techniques, alone and combined. My goal is to make a model that can learn the amazing structure of syllables and rhymes of the whole Comedy.\n",
        "\n"
      ]
    },
    {
      "cell_type": "markdown",
      "metadata": {
        "id": "zbXuy2OopudL"
      },
      "source": [
        "# NEW IDEAS\n",
        "\n",
        "#### Training:\n",
        "*   Cross validation\n",
        "*   Insert Rhyme as feature to learn as haiku\n",
        "*   Use syllable as input and not word\n",
        "*   Different training on different dataset\n",
        "* Use categorical_crossentropy instead of sparse_ but with one-hot encoded inputs\n",
        "* Symbols for explicit start and end terzina\n",
        "* training as classificator for structure: like \"these two world are rhymes\" or \"this is a endecasillable and this not\" or \"this is a terzina and this not\" then generation\n",
        "* use dropout \n",
        "* use two lstm\n",
        "* \n",
        "\n",
        "#### Presentation\n",
        "* graphs over the vocabulary like distribution of used words\n",
        "\n",
        "\n"
      ]
    },
    {
      "cell_type": "code",
      "metadata": {
        "id": "d7hZnK6wpy0j"
      },
      "source": [
        "RNN = Sequential([\n",
        "    Embedding(vocab_size, embedding_size,\n",
        "              batch_input_shape=(batch_size, None)),\n",
        "              \n",
        "    Dense(embedding_size, activation = relu),\n",
        "    \n",
        "    LSTM(len_input, return_sequences = True),\n",
        "\n",
        "    Dropout(0.3),\n",
        "    \n",
        "    Dense(hidden_size, activation = relu), \n",
        "\n",
        "    Dropout(0.3),\n",
        "    \n",
        "    Dense(vocab_size)\n",
        "])\n",
        "\n",
        "RNN.summary()\n",
        "\n",
        "generator = Sequential([\n",
        "    Embedding(vocab_size, embedding_size,batch_input_shape=(1, None)),\n",
        "\n",
        "    Dense(embedding_size, activation = relu),\n",
        "    \n",
        "    LSTM(len_input, return_sequences = True, stateful=True),\n",
        "\n",
        "    Dropout(0.3),\n",
        "    \n",
        "    Dense(hidden_size, activation = relu), \n",
        "\n",
        "    Dropout(0.3),\n",
        "    \n",
        "    Dense(vocab_size)\n",
        "\n",
        "\n",
        "])\n",
        "\n",
        "generator.summary()"
      ],
      "execution_count": null,
      "outputs": []
    }
  ]
}