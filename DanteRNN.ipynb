{
 "cells": [
  {
   "cell_type": "heading",
   "metadata": {
    "collapsed": true
   },
   "level": 1,
   "source": [
    "Recursive Neural Network(RNN) for generating the Divina Commedia of Dante Alighieri."
   ]
  },
  {
   "cell_type": "code",
   "execution_count": null,
   "metadata": {},
   "outputs": [],
   "source": [
    "import numpy as np\n",
    "import pandas as pd\n",
    "import re\n",
    "\n",
    "%tensorflow_version 2.x\n",
    "import tensorflow as tf\n",
    "print(tf.__version__)\n",
    "\n",
    "from tensorflow.keras.models import Sequential\n",
    "from tensorflow.keras.layers import Embedding, LSTM, Dense\n",
    "from tensorflow.keras.activations import elu, relu, softmax\n",
    "\n",
    "from matplotlib import pyplot as plt"
   ]
  },
  {
   "cell_type": "code",
   "execution_count": null,
   "metadata": {},
   "outputs": [],
   "source": [
    "# transform char in integer\n",
    "def numerical_encoding(text, char_dict):\n",
    "    \"\"\" Text to list of chars, to np.array of numerical idx \"\"\"\n",
    "    chars_list = [ char for char in text ]\n",
    "    chars_list = [ char_dict[char] for char in chars_list ]\n",
    "    chars_list = np.array(chars_list)\n",
    "    return chars_list\n",
    "\n",
    "\n",
    "def get_text_matrix(sequence, len_input):\n",
    "    \n",
    "    # create empty matrix\n",
    "    X = np.empty((len(sequence)-len_input, len_input))\n",
    "    \n",
    "    # fill each row/time window from input sequence\n",
    "    for i in range(X.shape[0]):\n",
    "        X[i,:] = sequence[i : i+len_input]\n",
    "        \n",
    "    return X"
   ]
  },
  {
   "cell_type": "markdown",
   "metadata": {},
   "source": []
  },
  {
   "cell_type": "code",
   "execution_count": null,
   "metadata": {},
   "outputs": [],
   "source": [
    "data_path = \"data/\"\n",
    "\n",
    "# Read the Divina Commedia\n",
    "with open(data_path + \"DivinaCommedia.txt\", 'r', encoding=\"utf8\") as file:\n",
    "    divina_commedia = file.read()\n",
    "\n",
    "# Replace exceptional characters\n",
    "divina_commedia = divina_commedia.replace(\"ä\", \"a\")\n",
    "divina_commedia = divina_commedia.replace(\"é\", \"è\")\n",
    "divina_commedia = divina_commedia.replace(\"ë\", \"è\")\n",
    "divina_commedia = divina_commedia.replace(\"Ë\", \"E\")\n",
    "divina_commedia = divina_commedia.replace(\"ï\", \"i\")\n",
    "divina_commedia = divina_commedia.replace(\"Ï\", \"I\")\n",
    "divina_commedia = divina_commedia.replace(\"ó\", \"ò\")\n",
    "divina_commedia = divina_commedia.replace(\"ö\", \"o\")\n",
    "divina_commedia = divina_commedia.replace(\"ü\", \"u\")\n",
    "\n",
    "divina_commedia = divina_commedia.replace(\"(\", \"-\")\n",
    "divina_commedia = divina_commedia.replace(\")\", \"-\")\n",
    "divina_commedia = divina_commedia.replace(\"[\", \"\")\n",
    "divina_commedia = divina_commedia.replace(\"]\", \"\")\n",
    "\n",
    "divina_commedia = re.sub(r'[0-9]+', '', divina_commedia)\n",
    "divina_commedia = divina_commedia.replace(\" \\n\", \"\\n\")\n",
    "\n",
    "# Check lenght of text\n",
    "print(len(divina_commedia))\n",
    "\n",
    "# Store unique characters into a dict with numerical encoding\n",
    "unique_chars = list(set(divina_commedia))\n",
    "unique_chars.sort()  # to make sure you get the same encoding at each run\n",
    "\n",
    "# Store them in a dict, associated with a numerical index\n",
    "char2idx = { char[1]: char[0] for char in enumerate(unique_chars) }\n"
   ]
  },
  {
   "cell_type": "code",
   "execution_count": null,
   "metadata": {},
   "outputs": [],
   "source": [
    "# Apply it on the whole Comedy\n",
    "encoded_text = numerical_encoding(divina_commedia, char2idx)"
   ]
  },
  {
   "cell_type": "code",
   "execution_count": null,
   "metadata": {},
   "outputs": [],
   "source": [
    "len_story = 100\n",
    "\n",
    "# encode a part of comedy of length len_story as a matrix \n",
    "text_matrix = get_text_matrix(encoded_text, len_story)"
   ]
  },
  {
   "cell_type": "heading",
   "metadata": {},
   "level": 1,
   "source": []
  },
  {
   "cell_type": "code",
   "execution_count": null,
   "metadata": {},
   "outputs": [],
   "source": [
    "# size of vocabulary\n",
    "vocab_size = len(char2idx)\n",
    "\n",
    "# size of mini batches during training\n",
    "batch_size = 100\n",
    "\n",
    "# size of training subset at each epoch\n",
    "subset_size = batch_size * 100\n",
    "\n",
    "# vector size of char embeddings\n",
    "embedding_size = 250\n",
    "\n",
    "len_input = 1000   # 200\n",
    "\n",
    "hidden_size = 250  # for Dense() layers"
   ]
  },
  {
   "cell_type": "code",
   "execution_count": null,
   "metadata": {},
   "outputs": [],
   "source": [
    "RNN = Sequential([\n",
    "    Embedding(vocab_size, embedding_size,\n",
    "              batch_input_shape=(batch_size, None)),\n",
    "    \n",
    "    LSTM(len_input, return_sequences = True),\n",
    "    \n",
    "    Dense(hidden_size, activation = relu), \n",
    "    \n",
    "    Dense(vocab_size)\n",
    "])\n",
    "\n",
    "RNN.summary()"
   ]
  },
  {
   "cell_type": "code",
   "execution_count": null,
   "metadata": {},
   "outputs": [],
   "source": [
    "n_epochs = 100\n",
    "\n",
    "learning_rate = 0.0001\n",
    "optimizer = tf.keras.optimizers.Adam(learning_rate = learning_rate)"
   ]
  },
  {
   "cell_type": "code",
   "execution_count": null,
   "metadata": {},
   "outputs": [],
   "source": [
    "# This is an Autograph function\n",
    "# its decorator makes it a TF op - i.e. much faster\n",
    "@tf.function\n",
    "def train_on_batch(x, y):\n",
    "    with tf.GradientTape() as tape:\n",
    "        current_loss = tf.reduce_mean(\n",
    "            tf.keras.losses.sparse_categorical_crossentropy(\n",
    "                y, RNN(x), from_logits = True))\n",
    "    gradients = tape.gradient(current_loss, RNN.trainable_variables)\n",
    "    optimizer.apply_gradients(zip(gradients, RNN.trainable_variables))\n",
    "    return current_loss"
   ]
  },
  {
   "cell_type": "code",
   "execution_count": null,
   "metadata": {},
   "outputs": [],
   "source": [
    "loss_history = []\n",
    "\n",
    "for epoch in range(n_epochs):\n",
    "    start = time.time()\n",
    "    \n",
    "    # Take subsets of train and target\n",
    "    sample = np.random.randint(0, text_matrix.shape[0]-1, subset_size)\n",
    "    sample_train = text_matrix[ sample , : ]\n",
    "    sample_target = text_matrix[ sample+1 , : ]\n",
    "    \n",
    "    for iteration in range(sample_train.shape[0] // batch_size):\n",
    "        take = iteration * batch_size\n",
    "        x = sample_train[ take:take+batch_size , : ]\n",
    "        y = sample_target[ take:take+batch_size , : ]\n",
    "\n",
    "        current_loss = train_on_batch(x, y)\n",
    "        loss_history.append(current_loss)\n",
    "    \n",
    "    print(\"{}.  \\t  Loss: {}  \\t  Time: {}ss\".format(\n",
    "        epoch+1, current_loss.numpy(), round(time.time()-start, 2)))"
   ]
  },
  {
   "cell_type": "code",
   "execution_count": null,
   "metadata": {},
   "outputs": [],
   "source": [
    "plt.plot(loss_history)\n",
    "plt.title(\"Training Loss\")\n",
    "plt.show()\n",
    "\n",
    "RNN.save(data_path + \"models/text_generator_RNN_00.h5\")"
   ]
  },
  {
   "cell_type": "code",
   "execution_count": null,
   "metadata": {},
   "outputs": [],
   "source": [
    "generator = Sequential([\n",
    "    Embedding(vocab_size, embedding_size,\n",
    "              batch_input_shape=(1, None)),\n",
    "    \n",
    "    LSTM(len_input, return_sequences = True, stateful=True),\n",
    "    \n",
    "    Dense(hidden_size, activation = relu), \n",
    "    \n",
    "    Dense(vocab_size)\n",
    "])\n",
    "\n",
    "generator.summary()\n",
    "# Import trained weights from RNN to generator\n",
    "generator.set_weights(RNN.get_weights())"
   ]
  },
  {
   "cell_type": "code",
   "execution_count": null,
   "metadata": {},
   "outputs": [],
   "source": [
    "def generate_text(start_string, num_generate = 1000, temperature = 1.0):\n",
    "    \n",
    "    # Vectorize input string\n",
    "    input_eval = [char2idx[s] for s in start_string]  \n",
    "    input_eval = tf.expand_dims(input_eval, 0)\n",
    "    \n",
    "    text_generated = []  # List to append predicted chars \n",
    "    \n",
    "    idx2char = {v: k for k, v in char2idx.items()}  # invert char-index mapping\n",
    "    \n",
    "    generator.reset_states()\n",
    "    \n",
    "    for i in range(num_generate):\n",
    "        predictions = generator(input_eval)\n",
    "        predictions = tf.squeeze(predictions, 0)\n",
    "        \n",
    "        # sample next char based on distribution and temperature\n",
    "        predictions = predictions / temperature\n",
    "        predicted_id = tf.random.categorical(predictions, num_samples=1)[-1,0].numpy()\n",
    "        \n",
    "        input_eval = tf.expand_dims([predicted_id], 0)\n",
    "\n",
    "        text_generated.append(idx2char[predicted_id])\n",
    "        \n",
    "    return (start_string + ''.join(text_generated))"
   ]
  },
  {
   "cell_type": "code",
   "execution_count": null,
   "metadata": {},
   "outputs": [],
   "source": [
    "# Let's feed the first lines:\n",
    "start_string = \"\"\"\n",
    "Nel mezzo del cammin di nostra vita\n",
    "mi ritrovai per una selva oscura,\n",
    "chè la diritta via era smarrita.\n",
    "\n",
    "\"\"\"\n",
    "\n",
    "for t in [0.1, 0.5, 1.0, 1.5, 2]:\n",
    "    print(\"####### TEXT GENERATION - temperature = {}\\n\".format(t))\n",
    "    print(generate_text(start_string = start_string, num_generate = 1000, temperature = 1.0))\n",
    "    print(\"\\n\\n\\n\")"
   ]
  }
 ],
 "metadata": {
  "kernelspec": {
   "display_name": "Python 2",
   "language": "python",
   "name": "python2"
  },
  "language_info": {
   "codemirror_mode": {
    "name": "ipython",
    "version": 2
   },
   "file_extension": ".py",
   "mimetype": "text/x-python",
   "name": "python",
   "nbconvert_exporter": "python",
   "pygments_lexer": "ipython2",
   "version": "2.7.6"
  }
 },
 "nbformat": 4,
 "nbformat_minor": 0
}
